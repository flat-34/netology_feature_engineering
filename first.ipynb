{
  "nbformat": 4,
  "nbformat_minor": 0,
  "metadata": {
    "kernelspec": {
      "display_name": "Python 3",
      "language": "python",
      "name": "python3"
    },
    "language_info": {
      "codemirror_mode": {
        "name": "ipython",
        "version": 3
      },
      "file_extension": ".py",
      "mimetype": "text/x-python",
      "name": "python",
      "nbconvert_exporter": "python",
      "pygments_lexer": "ipython3",
      "version": "3.7.6"
    },
    "colab": {
      "name": "first.ipynb",
      "provenance": [],
      "collapsed_sections": []
    }
  },
  "cells": [
    {
      "cell_type": "code",
      "metadata": {
        "id": "F_57DYo2XZYI"
      },
      "source": [
        "import pandas as pd\n",
        "import matplotlib.pyplot as plt\n",
        "%matplotlib inline\n",
        "\n",
        "import numpy as np\n",
        "from sklearn import datasets, linear_model"
      ],
      "execution_count": 1,
      "outputs": []
    },
    {
      "cell_type": "code",
      "metadata": {
        "id": "Ip1qkrBvXZYP",
        "outputId": "739ee87c-d34a-44d6-d08d-4fa70f673428",
        "colab": {
          "base_uri": "https://localhost:8080/",
          "height": 204
        }
      },
      "source": [
        "data = pd.read_csv('sat.txt', sep = ' ' )\n",
        "data.head()"
      ],
      "execution_count": 4,
      "outputs": [
        {
          "output_type": "execute_result",
          "data": {
            "text/html": [
              "<div>\n",
              "<style scoped>\n",
              "    .dataframe tbody tr th:only-of-type {\n",
              "        vertical-align: middle;\n",
              "    }\n",
              "\n",
              "    .dataframe tbody tr th {\n",
              "        vertical-align: top;\n",
              "    }\n",
              "\n",
              "    .dataframe thead th {\n",
              "        text-align: right;\n",
              "    }\n",
              "</style>\n",
              "<table border=\"1\" class=\"dataframe\">\n",
              "  <thead>\n",
              "    <tr style=\"text-align: right;\">\n",
              "      <th></th>\n",
              "      <th>high_GPA</th>\n",
              "      <th>math_SAT</th>\n",
              "      <th>verb_SAT</th>\n",
              "      <th>comp_GPA</th>\n",
              "      <th>univ_GPA</th>\n",
              "    </tr>\n",
              "  </thead>\n",
              "  <tbody>\n",
              "    <tr>\n",
              "      <th>0</th>\n",
              "      <td>3.45</td>\n",
              "      <td>643</td>\n",
              "      <td>589</td>\n",
              "      <td>3.76</td>\n",
              "      <td>3.52</td>\n",
              "    </tr>\n",
              "    <tr>\n",
              "      <th>1</th>\n",
              "      <td>2.78</td>\n",
              "      <td>558</td>\n",
              "      <td>512</td>\n",
              "      <td>2.87</td>\n",
              "      <td>2.91</td>\n",
              "    </tr>\n",
              "    <tr>\n",
              "      <th>2</th>\n",
              "      <td>2.52</td>\n",
              "      <td>583</td>\n",
              "      <td>503</td>\n",
              "      <td>2.54</td>\n",
              "      <td>2.40</td>\n",
              "    </tr>\n",
              "    <tr>\n",
              "      <th>3</th>\n",
              "      <td>3.67</td>\n",
              "      <td>685</td>\n",
              "      <td>602</td>\n",
              "      <td>3.83</td>\n",
              "      <td>3.47</td>\n",
              "    </tr>\n",
              "    <tr>\n",
              "      <th>4</th>\n",
              "      <td>3.24</td>\n",
              "      <td>592</td>\n",
              "      <td>538</td>\n",
              "      <td>3.29</td>\n",
              "      <td>3.47</td>\n",
              "    </tr>\n",
              "  </tbody>\n",
              "</table>\n",
              "</div>"
            ],
            "text/plain": [
              "   high_GPA  math_SAT  verb_SAT  comp_GPA  univ_GPA\n",
              "0      3.45       643       589      3.76      3.52\n",
              "1      2.78       558       512      2.87      2.91\n",
              "2      2.52       583       503      2.54      2.40\n",
              "3      3.67       685       602      3.83      3.47\n",
              "4      3.24       592       538      3.29      3.47"
            ]
          },
          "metadata": {
            "tags": []
          },
          "execution_count": 4
        }
      ]
    },
    {
      "cell_type": "code",
      "metadata": {
        "id": "uTpxIjqFXZYT"
      },
      "source": [
        "x = data[['high_GPA']]\n",
        "y = data['univ_GPA']"
      ],
      "execution_count": 5,
      "outputs": []
    },
    {
      "cell_type": "code",
      "metadata": {
        "id": "4oJiSZ08XZYW",
        "outputId": "4f45fc3e-f447-4d36-e1eb-a6086bde4ed9",
        "colab": {
          "base_uri": "https://localhost:8080/",
          "height": 204
        }
      },
      "source": [
        "x[:5]"
      ],
      "execution_count": 6,
      "outputs": [
        {
          "output_type": "execute_result",
          "data": {
            "text/html": [
              "<div>\n",
              "<style scoped>\n",
              "    .dataframe tbody tr th:only-of-type {\n",
              "        vertical-align: middle;\n",
              "    }\n",
              "\n",
              "    .dataframe tbody tr th {\n",
              "        vertical-align: top;\n",
              "    }\n",
              "\n",
              "    .dataframe thead th {\n",
              "        text-align: right;\n",
              "    }\n",
              "</style>\n",
              "<table border=\"1\" class=\"dataframe\">\n",
              "  <thead>\n",
              "    <tr style=\"text-align: right;\">\n",
              "      <th></th>\n",
              "      <th>high_GPA</th>\n",
              "    </tr>\n",
              "  </thead>\n",
              "  <tbody>\n",
              "    <tr>\n",
              "      <th>0</th>\n",
              "      <td>3.45</td>\n",
              "    </tr>\n",
              "    <tr>\n",
              "      <th>1</th>\n",
              "      <td>2.78</td>\n",
              "    </tr>\n",
              "    <tr>\n",
              "      <th>2</th>\n",
              "      <td>2.52</td>\n",
              "    </tr>\n",
              "    <tr>\n",
              "      <th>3</th>\n",
              "      <td>3.67</td>\n",
              "    </tr>\n",
              "    <tr>\n",
              "      <th>4</th>\n",
              "      <td>3.24</td>\n",
              "    </tr>\n",
              "  </tbody>\n",
              "</table>\n",
              "</div>"
            ],
            "text/plain": [
              "   high_GPA\n",
              "0      3.45\n",
              "1      2.78\n",
              "2      2.52\n",
              "3      3.67\n",
              "4      3.24"
            ]
          },
          "metadata": {
            "tags": []
          },
          "execution_count": 6
        }
      ]
    },
    {
      "cell_type": "code",
      "metadata": {
        "id": "LueHwThqXZYZ",
        "outputId": "3f9ee6d5-fa55-410c-ac11-ca9c657c4c42",
        "colab": {
          "base_uri": "https://localhost:8080/",
          "height": 119
        }
      },
      "source": [
        "y[:5]"
      ],
      "execution_count": 7,
      "outputs": [
        {
          "output_type": "execute_result",
          "data": {
            "text/plain": [
              "0    3.52\n",
              "1    2.91\n",
              "2    2.40\n",
              "3    3.47\n",
              "4    3.47\n",
              "Name: univ_GPA, dtype: float64"
            ]
          },
          "metadata": {
            "tags": []
          },
          "execution_count": 7
        }
      ]
    },
    {
      "cell_type": "code",
      "metadata": {
        "id": "Eem2izw-XZYc",
        "outputId": "e25eae16-4dce-4408-dae1-833216645a88",
        "colab": {
          "base_uri": "https://localhost:8080/",
          "height": 34
        }
      },
      "source": [
        "regr = linear_model.LinearRegression()\n",
        "regr.fit( x, y ) #fit метод для обучения модели"
      ],
      "execution_count": 8,
      "outputs": [
        {
          "output_type": "execute_result",
          "data": {
            "text/plain": [
              "LinearRegression(copy_X=True, fit_intercept=True, n_jobs=None, normalize=False)"
            ]
          },
          "metadata": {
            "tags": []
          },
          "execution_count": 8
        }
      ]
    },
    {
      "cell_type": "code",
      "metadata": {
        "id": "8J2xDHWrXZYg",
        "outputId": "960fe5bf-8db3-4724-88c8-e99458e1bca4",
        "colab": {
          "base_uri": "https://localhost:8080/",
          "height": 265
        }
      },
      "source": [
        "plt.scatter( x, y )\n",
        "plt.plot( x, regr.predict( x ), color = 'red' )\n",
        "plt.show()"
      ],
      "execution_count": 9,
      "outputs": [
        {
          "output_type": "display_data",
          "data": {
            "image/png": "[encoded data removed]",
            "text/plain": [
              "<Figure size 432x288 with 1 Axes>"
            ]
          },
          "metadata": {
            "tags": [],
            "needs_background": "light"
          }
        }
      ]
    },
    {
      "cell_type": "code",
      "metadata": {
        "id": "8hlScmAjXZYj"
      },
      "source": [
        ""
      ],
      "execution_count": null,
      "outputs": []
    },
    {
      "cell_type": "code",
      "metadata": {
        "id": "5RtKXnmLXZYm"
      },
      "source": [
        ""
      ],
      "execution_count": null,
      "outputs": []
    },
    {
      "cell_type": "code",
      "metadata": {
        "id": "JcKBSAJZXZYq"
      },
      "source": [
        ""
      ],
      "execution_count": null,
      "outputs": []
    },
    {
      "cell_type": "markdown",
      "metadata": {
        "id": "N_QaqZ49YLkS"
      },
      "source": [
        "Предсказать вид спорта по параметрам спортсмена"
      ]
    },
    {
      "cell_type": "code",
      "metadata": {
        "id": "KV6m_abqZsM0"
      },
      "source": [
        "from sklearn.linear_model import LogisticRegression\n",
        "from sklearn.preprocessing import LabelEncoder"
      ],
      "execution_count": 19,
      "outputs": []
    },
    {
      "cell_type": "code",
      "metadata": {
        "id": "LV8ZP9KNXZYt",
        "outputId": "02a3e385-71a2-4e04-fcc9-c3dd12fdce6c",
        "colab": {
          "base_uri": "https://localhost:8080/",
          "height": 204
        }
      },
      "source": [
        "sports = pd.read_csv( 'athletes.csv' )\n",
        "sports.head()"
      ],
      "execution_count": 10,
      "outputs": [
        {
          "output_type": "execute_result",
          "data": {
            "text/html": [
              "<div>\n",
              "<style scoped>\n",
              "    .dataframe tbody tr th:only-of-type {\n",
              "        vertical-align: middle;\n",
              "    }\n",
              "\n",
              "    .dataframe tbody tr th {\n",
              "        vertical-align: top;\n",
              "    }\n",
              "\n",
              "    .dataframe thead th {\n",
              "        text-align: right;\n",
              "    }\n",
              "</style>\n",
              "<table border=\"1\" class=\"dataframe\">\n",
              "  <thead>\n",
              "    <tr style=\"text-align: right;\">\n",
              "      <th></th>\n",
              "      <th>id</th>\n",
              "      <th>name</th>\n",
              "      <th>nationality</th>\n",
              "      <th>sex</th>\n",
              "      <th>dob</th>\n",
              "      <th>height</th>\n",
              "      <th>weight</th>\n",
              "      <th>sport</th>\n",
              "      <th>gold</th>\n",
              "      <th>silver</th>\n",
              "      <th>bronze</th>\n",
              "    </tr>\n",
              "  </thead>\n",
              "  <tbody>\n",
              "    <tr>\n",
              "      <th>0</th>\n",
              "      <td>736041664</td>\n",
              "      <td>A Jesus Garcia</td>\n",
              "      <td>ESP</td>\n",
              "      <td>male</td>\n",
              "      <td>10/17/69</td>\n",
              "      <td>1.72</td>\n",
              "      <td>64.0</td>\n",
              "      <td>athletics</td>\n",
              "      <td>0</td>\n",
              "      <td>0</td>\n",
              "      <td>0</td>\n",
              "    </tr>\n",
              "    <tr>\n",
              "      <th>1</th>\n",
              "      <td>532037425</td>\n",
              "      <td>A Lam Shin</td>\n",
              "      <td>KOR</td>\n",
              "      <td>female</td>\n",
              "      <td>9/23/86</td>\n",
              "      <td>1.68</td>\n",
              "      <td>56.0</td>\n",
              "      <td>fencing</td>\n",
              "      <td>0</td>\n",
              "      <td>0</td>\n",
              "      <td>0</td>\n",
              "    </tr>\n",
              "    <tr>\n",
              "      <th>2</th>\n",
              "      <td>435962603</td>\n",
              "      <td>Aaron Brown</td>\n",
              "      <td>CAN</td>\n",
              "      <td>male</td>\n",
              "      <td>5/27/92</td>\n",
              "      <td>1.98</td>\n",
              "      <td>79.0</td>\n",
              "      <td>athletics</td>\n",
              "      <td>0</td>\n",
              "      <td>0</td>\n",
              "      <td>1</td>\n",
              "    </tr>\n",
              "    <tr>\n",
              "      <th>3</th>\n",
              "      <td>521041435</td>\n",
              "      <td>Aaron Cook</td>\n",
              "      <td>MDA</td>\n",
              "      <td>male</td>\n",
              "      <td>1/2/91</td>\n",
              "      <td>1.83</td>\n",
              "      <td>80.0</td>\n",
              "      <td>taekwondo</td>\n",
              "      <td>0</td>\n",
              "      <td>0</td>\n",
              "      <td>0</td>\n",
              "    </tr>\n",
              "    <tr>\n",
              "      <th>4</th>\n",
              "      <td>33922579</td>\n",
              "      <td>Aaron Gate</td>\n",
              "      <td>NZL</td>\n",
              "      <td>male</td>\n",
              "      <td>11/26/90</td>\n",
              "      <td>1.81</td>\n",
              "      <td>71.0</td>\n",
              "      <td>cycling</td>\n",
              "      <td>0</td>\n",
              "      <td>0</td>\n",
              "      <td>0</td>\n",
              "    </tr>\n",
              "  </tbody>\n",
              "</table>\n",
              "</div>"
            ],
            "text/plain": [
              "          id            name nationality  ... gold silver  bronze\n",
              "0  736041664  A Jesus Garcia         ESP  ...    0      0       0\n",
              "1  532037425      A Lam Shin         KOR  ...    0      0       0\n",
              "2  435962603     Aaron Brown         CAN  ...    0      0       1\n",
              "3  521041435      Aaron Cook         MDA  ...    0      0       0\n",
              "4   33922579      Aaron Gate         NZL  ...    0      0       0\n",
              "\n",
              "[5 rows x 11 columns]"
            ]
          },
          "metadata": {
            "tags": []
          },
          "execution_count": 10
        }
      ]
    },
    {
      "cell_type": "code",
      "metadata": {
        "id": "vlk_beB1XZYw"
      },
      "source": [
        "# обнуляем ячейки с отсутствием данных\n",
        "sports = sports[ pd.isnull( sports['height'] ) == 0 ]\n",
        "sports = sports[ pd.isnull( sports['weight'] ) == 0 ]"
      ],
      "execution_count": 12,
      "outputs": []
    },
    {
      "cell_type": "code",
      "metadata": {
        "id": "fm9J3zxPXZY0",
        "outputId": "d18cafd0-1afc-4671-cd5b-7f3e533f4f07",
        "colab": {
          "base_uri": "https://localhost:8080/",
          "height": 323
        }
      },
      "source": [
        "sports.info()"
      ],
      "execution_count": 13,
      "outputs": [
        {
          "output_type": "stream",
          "text": [
            "<class 'pandas.core.frame.DataFrame'>\n",
            "Int64Index: 10858 entries, 0 to 11537\n",
            "Data columns (total 11 columns):\n",
            " #   Column       Non-Null Count  Dtype  \n",
            "---  ------       --------------  -----  \n",
            " 0   id           10858 non-null  int64  \n",
            " 1   name         10858 non-null  object \n",
            " 2   nationality  10858 non-null  object \n",
            " 3   sex          10858 non-null  object \n",
            " 4   dob          10858 non-null  object \n",
            " 5   height       10858 non-null  float64\n",
            " 6   weight       10858 non-null  float64\n",
            " 7   sport        10858 non-null  object \n",
            " 8   gold         10858 non-null  int64  \n",
            " 9   silver       10858 non-null  int64  \n",
            " 10  bronze       10858 non-null  int64  \n",
            "dtypes: float64(2), int64(4), object(5)\n",
            "memory usage: 1017.9+ KB\n"
          ],
          "name": "stdout"
        }
      ]
    },
    {
      "cell_type": "code",
      "metadata": {
        "id": "jQ9wKi3XZoE8",
        "outputId": "21a3d3ab-e3fa-4db9-b003-c250874bb89a",
        "colab": {
          "base_uri": "https://localhost:8080/",
          "height": 241
        }
      },
      "source": [
        "# Посмотрим, как вес играет на выбранный спорт\n",
        "selectedColumns = sports[ [ 'weight', 'sport', 'height' ] ]\n",
        "\n",
        "# столбец sport является категориальной переменной\n",
        "# переведем ее в значения 0 и 1, добавив столбцы с соответствующими названиями\n",
        "X = pd.get_dummies( selectedColumns, columns = [ 'sport' ] )\n",
        "\n",
        "# столбец weight является целевой переменной, удаляем его из X\n",
        "del X['weight']\n",
        "\n",
        "X.head()"
      ],
      "execution_count": 39,
      "outputs": [
        {
          "output_type": "execute_result",
          "data": {
            "text/html": [
              "<div>\n",
              "<style scoped>\n",
              "    .dataframe tbody tr th:only-of-type {\n",
              "        vertical-align: middle;\n",
              "    }\n",
              "\n",
              "    .dataframe tbody tr th {\n",
              "        vertical-align: top;\n",
              "    }\n",
              "\n",
              "    .dataframe thead th {\n",
              "        text-align: right;\n",
              "    }\n",
              "</style>\n",
              "<table border=\"1\" class=\"dataframe\">\n",
              "  <thead>\n",
              "    <tr style=\"text-align: right;\">\n",
              "      <th></th>\n",
              "      <th>height</th>\n",
              "      <th>sport_aquatics</th>\n",
              "      <th>sport_archery</th>\n",
              "      <th>sport_athletics</th>\n",
              "      <th>sport_badminton</th>\n",
              "      <th>sport_basketball</th>\n",
              "      <th>sport_canoe</th>\n",
              "      <th>sport_cycling</th>\n",
              "      <th>sport_equestrian</th>\n",
              "      <th>sport_fencing</th>\n",
              "      <th>sport_football</th>\n",
              "      <th>sport_golf</th>\n",
              "      <th>sport_gymnastics</th>\n",
              "      <th>sport_handball</th>\n",
              "      <th>sport_hockey</th>\n",
              "      <th>sport_judo</th>\n",
              "      <th>sport_modern pentathlon</th>\n",
              "      <th>sport_rowing</th>\n",
              "      <th>sport_rugby sevens</th>\n",
              "      <th>sport_sailing</th>\n",
              "      <th>sport_shooting</th>\n",
              "      <th>sport_table tennis</th>\n",
              "      <th>sport_taekwondo</th>\n",
              "      <th>sport_tennis</th>\n",
              "      <th>sport_triathlon</th>\n",
              "      <th>sport_volleyball</th>\n",
              "      <th>sport_weightlifting</th>\n",
              "      <th>sport_wrestling</th>\n",
              "    </tr>\n",
              "  </thead>\n",
              "  <tbody>\n",
              "    <tr>\n",
              "      <th>0</th>\n",
              "      <td>1.72</td>\n",
              "      <td>0</td>\n",
              "      <td>0</td>\n",
              "      <td>1</td>\n",
              "      <td>0</td>\n",
              "      <td>0</td>\n",
              "      <td>0</td>\n",
              "      <td>0</td>\n",
              "      <td>0</td>\n",
              "      <td>0</td>\n",
              "      <td>0</td>\n",
              "      <td>0</td>\n",
              "      <td>0</td>\n",
              "      <td>0</td>\n",
              "      <td>0</td>\n",
              "      <td>0</td>\n",
              "      <td>0</td>\n",
              "      <td>0</td>\n",
              "      <td>0</td>\n",
              "      <td>0</td>\n",
              "      <td>0</td>\n",
              "      <td>0</td>\n",
              "      <td>0</td>\n",
              "      <td>0</td>\n",
              "      <td>0</td>\n",
              "      <td>0</td>\n",
              "      <td>0</td>\n",
              "      <td>0</td>\n",
              "    </tr>\n",
              "    <tr>\n",
              "      <th>1</th>\n",
              "      <td>1.68</td>\n",
              "      <td>0</td>\n",
              "      <td>0</td>\n",
              "      <td>0</td>\n",
              "      <td>0</td>\n",
              "      <td>0</td>\n",
              "      <td>0</td>\n",
              "      <td>0</td>\n",
              "      <td>0</td>\n",
              "      <td>1</td>\n",
              "      <td>0</td>\n",
              "      <td>0</td>\n",
              "      <td>0</td>\n",
              "      <td>0</td>\n",
              "      <td>0</td>\n",
              "      <td>0</td>\n",
              "      <td>0</td>\n",
              "      <td>0</td>\n",
              "      <td>0</td>\n",
              "      <td>0</td>\n",
              "      <td>0</td>\n",
              "      <td>0</td>\n",
              "      <td>0</td>\n",
              "      <td>0</td>\n",
              "      <td>0</td>\n",
              "      <td>0</td>\n",
              "      <td>0</td>\n",
              "      <td>0</td>\n",
              "    </tr>\n",
              "    <tr>\n",
              "      <th>2</th>\n",
              "      <td>1.98</td>\n",
              "      <td>0</td>\n",
              "      <td>0</td>\n",
              "      <td>1</td>\n",
              "      <td>0</td>\n",
              "      <td>0</td>\n",
              "      <td>0</td>\n",
              "      <td>0</td>\n",
              "      <td>0</td>\n",
              "      <td>0</td>\n",
              "      <td>0</td>\n",
              "      <td>0</td>\n",
              "      <td>0</td>\n",
              "      <td>0</td>\n",
              "      <td>0</td>\n",
              "      <td>0</td>\n",
              "      <td>0</td>\n",
              "      <td>0</td>\n",
              "      <td>0</td>\n",
              "      <td>0</td>\n",
              "      <td>0</td>\n",
              "      <td>0</td>\n",
              "      <td>0</td>\n",
              "      <td>0</td>\n",
              "      <td>0</td>\n",
              "      <td>0</td>\n",
              "      <td>0</td>\n",
              "      <td>0</td>\n",
              "    </tr>\n",
              "    <tr>\n",
              "      <th>3</th>\n",
              "      <td>1.83</td>\n",
              "      <td>0</td>\n",
              "      <td>0</td>\n",
              "      <td>0</td>\n",
              "      <td>0</td>\n",
              "      <td>0</td>\n",
              "      <td>0</td>\n",
              "      <td>0</td>\n",
              "      <td>0</td>\n",
              "      <td>0</td>\n",
              "      <td>0</td>\n",
              "      <td>0</td>\n",
              "      <td>0</td>\n",
              "      <td>0</td>\n",
              "      <td>0</td>\n",
              "      <td>0</td>\n",
              "      <td>0</td>\n",
              "      <td>0</td>\n",
              "      <td>0</td>\n",
              "      <td>0</td>\n",
              "      <td>0</td>\n",
              "      <td>0</td>\n",
              "      <td>1</td>\n",
              "      <td>0</td>\n",
              "      <td>0</td>\n",
              "      <td>0</td>\n",
              "      <td>0</td>\n",
              "      <td>0</td>\n",
              "    </tr>\n",
              "    <tr>\n",
              "      <th>4</th>\n",
              "      <td>1.81</td>\n",
              "      <td>0</td>\n",
              "      <td>0</td>\n",
              "      <td>0</td>\n",
              "      <td>0</td>\n",
              "      <td>0</td>\n",
              "      <td>0</td>\n",
              "      <td>1</td>\n",
              "      <td>0</td>\n",
              "      <td>0</td>\n",
              "      <td>0</td>\n",
              "      <td>0</td>\n",
              "      <td>0</td>\n",
              "      <td>0</td>\n",
              "      <td>0</td>\n",
              "      <td>0</td>\n",
              "      <td>0</td>\n",
              "      <td>0</td>\n",
              "      <td>0</td>\n",
              "      <td>0</td>\n",
              "      <td>0</td>\n",
              "      <td>0</td>\n",
              "      <td>0</td>\n",
              "      <td>0</td>\n",
              "      <td>0</td>\n",
              "      <td>0</td>\n",
              "      <td>0</td>\n",
              "      <td>0</td>\n",
              "    </tr>\n",
              "  </tbody>\n",
              "</table>\n",
              "</div>"
            ],
            "text/plain": [
              "   height  sport_aquatics  ...  sport_weightlifting  sport_wrestling\n",
              "0    1.72               0  ...                    0                0\n",
              "1    1.68               0  ...                    0                0\n",
              "2    1.98               0  ...                    0                0\n",
              "3    1.83               0  ...                    0                0\n",
              "4    1.81               0  ...                    0                0\n",
              "\n",
              "[5 rows x 28 columns]"
            ]
          },
          "metadata": {
            "tags": []
          },
          "execution_count": 39
        }
      ]
    },
    {
      "cell_type": "code",
      "metadata": {
        "id": "wHFE0aVfaavy"
      },
      "source": [
        "# целевая переменная (столбец weight) снова является категориальной\n",
        "# переведем значения столбца в числа, оставив один столбец\n",
        "\n",
        "le = LabelEncoder()"
      ],
      "execution_count": 40,
      "outputs": []
    },
    {
      "cell_type": "code",
      "metadata": {
        "id": "ASHKUzL-aays",
        "outputId": "9dc59af6-2328-4613-dae1-0959150014a5",
        "colab": {
          "base_uri": "https://localhost:8080/",
          "height": 34
        }
      },
      "source": [
        "le.fit( sports['weight'] )"
      ],
      "execution_count": 41,
      "outputs": [
        {
          "output_type": "execute_result",
          "data": {
            "text/plain": [
              "LabelEncoder()"
            ]
          },
          "metadata": {
            "tags": []
          },
          "execution_count": 41
        }
      ]
    },
    {
      "cell_type": "code",
      "metadata": {
        "id": "_typ3Msgaa1U",
        "outputId": "bdb34f5f-3562-4dfa-e2de-2b2a03901a83",
        "colab": {
          "base_uri": "https://localhost:8080/",
          "height": 221
        }
      },
      "source": [
        "le.classes_"
      ],
      "execution_count": 42,
      "outputs": [
        {
          "output_type": "execute_result",
          "data": {
            "text/plain": [
              "array([ 31.,  33.,  34.,  35.,  36.,  37.,  39.,  40.,  41.,  42.,  43.,\n",
              "        44.,  45.,  46.,  47.,  48.,  49.,  50.,  51.,  52.,  53.,  54.,\n",
              "        55.,  56.,  57.,  58.,  59.,  60.,  61.,  62.,  63.,  64.,  65.,\n",
              "        66.,  67.,  68.,  69.,  70.,  71.,  72.,  73.,  74.,  75.,  76.,\n",
              "        77.,  78.,  79.,  80.,  81.,  82.,  83.,  84.,  85.,  86.,  87.,\n",
              "        88.,  89.,  90.,  91.,  92.,  93.,  94.,  95.,  96.,  97.,  98.,\n",
              "        99., 100., 101., 102., 103., 104., 105., 106., 107., 108., 109.,\n",
              "       110., 111., 112., 113., 114., 115., 116., 117., 118., 119., 120.,\n",
              "       121., 122., 123., 124., 125., 126., 127., 128., 130., 132., 133.,\n",
              "       134., 135., 136., 137., 138., 139., 140., 142., 143., 144., 145.,\n",
              "       146., 148., 149., 150., 152., 154., 155., 157., 159., 160., 163.,\n",
              "       165., 170.])"
            ]
          },
          "metadata": {
            "tags": []
          },
          "execution_count": 42
        }
      ]
    },
    {
      "cell_type": "code",
      "metadata": {
        "id": "AYLH_hGLaa6s",
        "outputId": "f667df9a-b55e-48eb-c56a-4c38eeba66ba",
        "colab": {
          "base_uri": "https://localhost:8080/",
          "height": 34
        }
      },
      "source": [
        "# пример \"расшировки\" столбца \"вес\"\n",
        "le.transform( [ 31, 100, 121 ] )"
      ],
      "execution_count": 43,
      "outputs": [
        {
          "output_type": "execute_result",
          "data": {
            "text/plain": [
              "array([ 0, 67, 88])"
            ]
          },
          "metadata": {
            "tags": []
          },
          "execution_count": 43
        }
      ]
    },
    {
      "cell_type": "code",
      "metadata": {
        "id": "vzIVuhmGaa9Y",
        "outputId": "d21f13e0-04d1-4927-d762-faffb08dad92",
        "colab": {
          "base_uri": "https://localhost:8080/",
          "height": 119
        }
      },
      "source": [
        "# записываем в переменную y преобразованный столбец weight\n",
        "\n",
        "y = pd.Series( data = le.transform( sports['weight'] ) )\n",
        "y.head()"
      ],
      "execution_count": 44,
      "outputs": [
        {
          "output_type": "execute_result",
          "data": {
            "text/plain": [
              "0    31\n",
              "1    23\n",
              "2    46\n",
              "3    47\n",
              "4    38\n",
              "dtype: int64"
            ]
          },
          "metadata": {
            "tags": []
          },
          "execution_count": 44
        }
      ]
    },
    {
      "cell_type": "code",
      "metadata": {
        "id": "oS3o3OvrabAH"
      },
      "source": [
        "model = LogisticRegression()"
      ],
      "execution_count": 45,
      "outputs": []
    },
    {
      "cell_type": "code",
      "metadata": {
        "id": "SehXvBsWaa49",
        "outputId": "64d2a88e-30dd-4814-ae7b-0a53c8ed0f98",
        "colab": {
          "base_uri": "https://localhost:8080/",
          "height": 456
        }
      },
      "source": [
        "X"
      ],
      "execution_count": 46,
      "outputs": [
        {
          "output_type": "execute_result",
          "data": {
            "text/html": [
              "<div>\n",
              "<style scoped>\n",
              "    .dataframe tbody tr th:only-of-type {\n",
              "        vertical-align: middle;\n",
              "    }\n",
              "\n",
              "    .dataframe tbody tr th {\n",
              "        vertical-align: top;\n",
              "    }\n",
              "\n",
              "    .dataframe thead th {\n",
              "        text-align: right;\n",
              "    }\n",
              "</style>\n",
              "<table border=\"1\" class=\"dataframe\">\n",
              "  <thead>\n",
              "    <tr style=\"text-align: right;\">\n",
              "      <th></th>\n",
              "      <th>height</th>\n",
              "      <th>sport_aquatics</th>\n",
              "      <th>sport_archery</th>\n",
              "      <th>sport_athletics</th>\n",
              "      <th>sport_badminton</th>\n",
              "      <th>sport_basketball</th>\n",
              "      <th>sport_canoe</th>\n",
              "      <th>sport_cycling</th>\n",
              "      <th>sport_equestrian</th>\n",
              "      <th>sport_fencing</th>\n",
              "      <th>sport_football</th>\n",
              "      <th>sport_golf</th>\n",
              "      <th>sport_gymnastics</th>\n",
              "      <th>sport_handball</th>\n",
              "      <th>sport_hockey</th>\n",
              "      <th>sport_judo</th>\n",
              "      <th>sport_modern pentathlon</th>\n",
              "      <th>sport_rowing</th>\n",
              "      <th>sport_rugby sevens</th>\n",
              "      <th>sport_sailing</th>\n",
              "      <th>sport_shooting</th>\n",
              "      <th>sport_table tennis</th>\n",
              "      <th>sport_taekwondo</th>\n",
              "      <th>sport_tennis</th>\n",
              "      <th>sport_triathlon</th>\n",
              "      <th>sport_volleyball</th>\n",
              "      <th>sport_weightlifting</th>\n",
              "      <th>sport_wrestling</th>\n",
              "    </tr>\n",
              "  </thead>\n",
              "  <tbody>\n",
              "    <tr>\n",
              "      <th>0</th>\n",
              "      <td>1.72</td>\n",
              "      <td>0</td>\n",
              "      <td>0</td>\n",
              "      <td>1</td>\n",
              "      <td>0</td>\n",
              "      <td>0</td>\n",
              "      <td>0</td>\n",
              "      <td>0</td>\n",
              "      <td>0</td>\n",
              "      <td>0</td>\n",
              "      <td>0</td>\n",
              "      <td>0</td>\n",
              "      <td>0</td>\n",
              "      <td>0</td>\n",
              "      <td>0</td>\n",
              "      <td>0</td>\n",
              "      <td>0</td>\n",
              "      <td>0</td>\n",
              "      <td>0</td>\n",
              "      <td>0</td>\n",
              "      <td>0</td>\n",
              "      <td>0</td>\n",
              "      <td>0</td>\n",
              "      <td>0</td>\n",
              "      <td>0</td>\n",
              "      <td>0</td>\n",
              "      <td>0</td>\n",
              "      <td>0</td>\n",
              "    </tr>\n",
              "    <tr>\n",
              "      <th>1</th>\n",
              "      <td>1.68</td>\n",
              "      <td>0</td>\n",
              "      <td>0</td>\n",
              "      <td>0</td>\n",
              "      <td>0</td>\n",
              "      <td>0</td>\n",
              "      <td>0</td>\n",
              "      <td>0</td>\n",
              "      <td>0</td>\n",
              "      <td>1</td>\n",
              "      <td>0</td>\n",
              "      <td>0</td>\n",
              "      <td>0</td>\n",
              "      <td>0</td>\n",
              "      <td>0</td>\n",
              "      <td>0</td>\n",
              "      <td>0</td>\n",
              "      <td>0</td>\n",
              "      <td>0</td>\n",
              "      <td>0</td>\n",
              "      <td>0</td>\n",
              "      <td>0</td>\n",
              "      <td>0</td>\n",
              "      <td>0</td>\n",
              "      <td>0</td>\n",
              "      <td>0</td>\n",
              "      <td>0</td>\n",
              "      <td>0</td>\n",
              "    </tr>\n",
              "    <tr>\n",
              "      <th>2</th>\n",
              "      <td>1.98</td>\n",
              "      <td>0</td>\n",
              "      <td>0</td>\n",
              "      <td>1</td>\n",
              "      <td>0</td>\n",
              "      <td>0</td>\n",
              "      <td>0</td>\n",
              "      <td>0</td>\n",
              "      <td>0</td>\n",
              "      <td>0</td>\n",
              "      <td>0</td>\n",
              "      <td>0</td>\n",
              "      <td>0</td>\n",
              "      <td>0</td>\n",
              "      <td>0</td>\n",
              "      <td>0</td>\n",
              "      <td>0</td>\n",
              "      <td>0</td>\n",
              "      <td>0</td>\n",
              "      <td>0</td>\n",
              "      <td>0</td>\n",
              "      <td>0</td>\n",
              "      <td>0</td>\n",
              "      <td>0</td>\n",
              "      <td>0</td>\n",
              "      <td>0</td>\n",
              "      <td>0</td>\n",
              "      <td>0</td>\n",
              "    </tr>\n",
              "    <tr>\n",
              "      <th>3</th>\n",
              "      <td>1.83</td>\n",
              "      <td>0</td>\n",
              "      <td>0</td>\n",
              "      <td>0</td>\n",
              "      <td>0</td>\n",
              "      <td>0</td>\n",
              "      <td>0</td>\n",
              "      <td>0</td>\n",
              "      <td>0</td>\n",
              "      <td>0</td>\n",
              "      <td>0</td>\n",
              "      <td>0</td>\n",
              "      <td>0</td>\n",
              "      <td>0</td>\n",
              "      <td>0</td>\n",
              "      <td>0</td>\n",
              "      <td>0</td>\n",
              "      <td>0</td>\n",
              "      <td>0</td>\n",
              "      <td>0</td>\n",
              "      <td>0</td>\n",
              "      <td>0</td>\n",
              "      <td>1</td>\n",
              "      <td>0</td>\n",
              "      <td>0</td>\n",
              "      <td>0</td>\n",
              "      <td>0</td>\n",
              "      <td>0</td>\n",
              "    </tr>\n",
              "    <tr>\n",
              "      <th>4</th>\n",
              "      <td>1.81</td>\n",
              "      <td>0</td>\n",
              "      <td>0</td>\n",
              "      <td>0</td>\n",
              "      <td>0</td>\n",
              "      <td>0</td>\n",
              "      <td>0</td>\n",
              "      <td>1</td>\n",
              "      <td>0</td>\n",
              "      <td>0</td>\n",
              "      <td>0</td>\n",
              "      <td>0</td>\n",
              "      <td>0</td>\n",
              "      <td>0</td>\n",
              "      <td>0</td>\n",
              "      <td>0</td>\n",
              "      <td>0</td>\n",
              "      <td>0</td>\n",
              "      <td>0</td>\n",
              "      <td>0</td>\n",
              "      <td>0</td>\n",
              "      <td>0</td>\n",
              "      <td>0</td>\n",
              "      <td>0</td>\n",
              "      <td>0</td>\n",
              "      <td>0</td>\n",
              "      <td>0</td>\n",
              "      <td>0</td>\n",
              "    </tr>\n",
              "    <tr>\n",
              "      <th>...</th>\n",
              "      <td>...</td>\n",
              "      <td>...</td>\n",
              "      <td>...</td>\n",
              "      <td>...</td>\n",
              "      <td>...</td>\n",
              "      <td>...</td>\n",
              "      <td>...</td>\n",
              "      <td>...</td>\n",
              "      <td>...</td>\n",
              "      <td>...</td>\n",
              "      <td>...</td>\n",
              "      <td>...</td>\n",
              "      <td>...</td>\n",
              "      <td>...</td>\n",
              "      <td>...</td>\n",
              "      <td>...</td>\n",
              "      <td>...</td>\n",
              "      <td>...</td>\n",
              "      <td>...</td>\n",
              "      <td>...</td>\n",
              "      <td>...</td>\n",
              "      <td>...</td>\n",
              "      <td>...</td>\n",
              "      <td>...</td>\n",
              "      <td>...</td>\n",
              "      <td>...</td>\n",
              "      <td>...</td>\n",
              "      <td>...</td>\n",
              "    </tr>\n",
              "    <tr>\n",
              "      <th>11533</th>\n",
              "      <td>1.64</td>\n",
              "      <td>0</td>\n",
              "      <td>0</td>\n",
              "      <td>1</td>\n",
              "      <td>0</td>\n",
              "      <td>0</td>\n",
              "      <td>0</td>\n",
              "      <td>0</td>\n",
              "      <td>0</td>\n",
              "      <td>0</td>\n",
              "      <td>0</td>\n",
              "      <td>0</td>\n",
              "      <td>0</td>\n",
              "      <td>0</td>\n",
              "      <td>0</td>\n",
              "      <td>0</td>\n",
              "      <td>0</td>\n",
              "      <td>0</td>\n",
              "      <td>0</td>\n",
              "      <td>0</td>\n",
              "      <td>0</td>\n",
              "      <td>0</td>\n",
              "      <td>0</td>\n",
              "      <td>0</td>\n",
              "      <td>0</td>\n",
              "      <td>0</td>\n",
              "      <td>0</td>\n",
              "      <td>0</td>\n",
              "    </tr>\n",
              "    <tr>\n",
              "      <th>11534</th>\n",
              "      <td>1.73</td>\n",
              "      <td>0</td>\n",
              "      <td>0</td>\n",
              "      <td>1</td>\n",
              "      <td>0</td>\n",
              "      <td>0</td>\n",
              "      <td>0</td>\n",
              "      <td>0</td>\n",
              "      <td>0</td>\n",
              "      <td>0</td>\n",
              "      <td>0</td>\n",
              "      <td>0</td>\n",
              "      <td>0</td>\n",
              "      <td>0</td>\n",
              "      <td>0</td>\n",
              "      <td>0</td>\n",
              "      <td>0</td>\n",
              "      <td>0</td>\n",
              "      <td>0</td>\n",
              "      <td>0</td>\n",
              "      <td>0</td>\n",
              "      <td>0</td>\n",
              "      <td>0</td>\n",
              "      <td>0</td>\n",
              "      <td>0</td>\n",
              "      <td>0</td>\n",
              "      <td>0</td>\n",
              "      <td>0</td>\n",
              "    </tr>\n",
              "    <tr>\n",
              "      <th>11535</th>\n",
              "      <td>1.85</td>\n",
              "      <td>0</td>\n",
              "      <td>0</td>\n",
              "      <td>0</td>\n",
              "      <td>0</td>\n",
              "      <td>0</td>\n",
              "      <td>0</td>\n",
              "      <td>0</td>\n",
              "      <td>0</td>\n",
              "      <td>0</td>\n",
              "      <td>0</td>\n",
              "      <td>0</td>\n",
              "      <td>0</td>\n",
              "      <td>0</td>\n",
              "      <td>0</td>\n",
              "      <td>0</td>\n",
              "      <td>0</td>\n",
              "      <td>0</td>\n",
              "      <td>0</td>\n",
              "      <td>0</td>\n",
              "      <td>0</td>\n",
              "      <td>0</td>\n",
              "      <td>0</td>\n",
              "      <td>0</td>\n",
              "      <td>0</td>\n",
              "      <td>0</td>\n",
              "      <td>0</td>\n",
              "      <td>1</td>\n",
              "    </tr>\n",
              "    <tr>\n",
              "      <th>11536</th>\n",
              "      <td>1.60</td>\n",
              "      <td>0</td>\n",
              "      <td>0</td>\n",
              "      <td>0</td>\n",
              "      <td>0</td>\n",
              "      <td>0</td>\n",
              "      <td>0</td>\n",
              "      <td>0</td>\n",
              "      <td>0</td>\n",
              "      <td>0</td>\n",
              "      <td>0</td>\n",
              "      <td>0</td>\n",
              "      <td>0</td>\n",
              "      <td>0</td>\n",
              "      <td>0</td>\n",
              "      <td>0</td>\n",
              "      <td>0</td>\n",
              "      <td>0</td>\n",
              "      <td>0</td>\n",
              "      <td>0</td>\n",
              "      <td>0</td>\n",
              "      <td>0</td>\n",
              "      <td>0</td>\n",
              "      <td>0</td>\n",
              "      <td>0</td>\n",
              "      <td>0</td>\n",
              "      <td>1</td>\n",
              "      <td>0</td>\n",
              "    </tr>\n",
              "    <tr>\n",
              "      <th>11537</th>\n",
              "      <td>1.85</td>\n",
              "      <td>0</td>\n",
              "      <td>0</td>\n",
              "      <td>1</td>\n",
              "      <td>0</td>\n",
              "      <td>0</td>\n",
              "      <td>0</td>\n",
              "      <td>0</td>\n",
              "      <td>0</td>\n",
              "      <td>0</td>\n",
              "      <td>0</td>\n",
              "      <td>0</td>\n",
              "      <td>0</td>\n",
              "      <td>0</td>\n",
              "      <td>0</td>\n",
              "      <td>0</td>\n",
              "      <td>0</td>\n",
              "      <td>0</td>\n",
              "      <td>0</td>\n",
              "      <td>0</td>\n",
              "      <td>0</td>\n",
              "      <td>0</td>\n",
              "      <td>0</td>\n",
              "      <td>0</td>\n",
              "      <td>0</td>\n",
              "      <td>0</td>\n",
              "      <td>0</td>\n",
              "      <td>0</td>\n",
              "    </tr>\n",
              "  </tbody>\n",
              "</table>\n",
              "<p>10858 rows × 28 columns</p>\n",
              "</div>"
            ],
            "text/plain": [
              "       height  sport_aquatics  ...  sport_weightlifting  sport_wrestling\n",
              "0        1.72               0  ...                    0                0\n",
              "1        1.68               0  ...                    0                0\n",
              "2        1.98               0  ...                    0                0\n",
              "3        1.83               0  ...                    0                0\n",
              "4        1.81               0  ...                    0                0\n",
              "...       ...             ...  ...                  ...              ...\n",
              "11533    1.64               0  ...                    0                0\n",
              "11534    1.73               0  ...                    0                0\n",
              "11535    1.85               0  ...                    0                1\n",
              "11536    1.60               0  ...                    1                0\n",
              "11537    1.85               0  ...                    0                0\n",
              "\n",
              "[10858 rows x 28 columns]"
            ]
          },
          "metadata": {
            "tags": []
          },
          "execution_count": 46
        }
      ]
    },
    {
      "cell_type": "code",
      "metadata": {
        "id": "E6zMiTVycGS-",
        "outputId": "b7eeef82-151d-4c21-9e13-2951a0974870",
        "colab": {
          "base_uri": "https://localhost:8080/",
          "height": 173
        }
      },
      "source": [
        "# обучаем модель\n",
        "\n",
        "model.fit( X, y )\n",
        "predictions = model.predict_proba( X )"
      ],
      "execution_count": 47,
      "outputs": [
        {
          "output_type": "stream",
          "text": [
            "/usr/local/lib/python3.6/dist-packages/sklearn/linear_model/_logistic.py:940: ConvergenceWarning: lbfgs failed to converge (status=1):\n",
            "STOP: TOTAL NO. of ITERATIONS REACHED LIMIT.\n",
            "\n",
            "Increase the number of iterations (max_iter) or scale the data as shown in:\n",
            "    https://scikit-learn.org/stable/modules/preprocessing.html\n",
            "Please also refer to the documentation for alternative solver options:\n",
            "    https://scikit-learn.org/stable/modules/linear_model.html#logistic-regression\n",
            "  extra_warning_msg=_LOGISTIC_SOLVER_CONVERGENCE_MSG)\n"
          ],
          "name": "stderr"
        }
      ]
    },
    {
      "cell_type": "code",
      "metadata": {
        "id": "dzUXH3z3cWeq",
        "outputId": "585e20b0-8181-4707-cc38-507e43616160",
        "colab": {
          "base_uri": "https://localhost:8080/",
          "height": 1000
        }
      },
      "source": [
        "predictions[:5]"
      ],
      "execution_count": 49,
      "outputs": [
        {
          "output_type": "execute_result",
          "data": {
            "text/plain": [
              "array([[1.01391054e-04, 1.03582069e-04, 1.62443948e-04, 1.83849116e-04,\n",
              "        1.06107871e-04, 1.81138476e-04, 7.56437940e-04, 1.50823569e-03,\n",
              "        5.70632552e-04, 4.10232704e-03, 6.72487816e-03, 4.64760784e-03,\n",
              "        1.17955396e-02, 1.15615011e-02, 1.11671493e-02, 1.75011972e-02,\n",
              "        1.42054010e-02, 3.21466006e-02, 1.46218244e-02, 3.01407271e-02,\n",
              "        2.90470666e-02, 3.14183212e-02, 4.16066849e-02, 3.09098024e-02,\n",
              "        3.27946750e-02, 5.37630881e-02, 3.09200620e-02, 4.61182502e-02,\n",
              "        2.67605847e-02, 3.48507903e-02, 3.72704906e-02, 2.92742851e-02,\n",
              "        4.30036012e-02, 2.00022928e-02, 1.63767059e-02, 2.85062564e-02,\n",
              "        1.50825598e-02, 3.99882806e-02, 7.31182198e-03, 2.06150875e-02,\n",
              "        1.19264825e-02, 1.56553750e-02, 1.48944098e-02, 1.11444564e-02,\n",
              "        1.15793926e-02, 1.19332597e-02, 7.87125961e-03, 1.23654683e-02,\n",
              "        6.81384771e-03, 7.41119237e-03, 8.81723081e-03, 6.37405544e-03,\n",
              "        6.78479329e-03, 4.98091023e-03, 3.72776105e-03, 4.50616504e-03,\n",
              "        3.05310986e-03, 4.50871790e-03, 1.90282205e-03, 2.88384724e-03,\n",
              "        2.53635368e-03, 3.50209898e-03, 4.53998973e-03, 1.81319314e-03,\n",
              "        1.41232594e-03, 2.17471487e-03, 1.26760703e-03, 2.96973811e-03,\n",
              "        8.10080164e-04, 1.41719975e-03, 1.64168608e-03, 1.25776095e-03,\n",
              "        2.64931822e-03, 1.25531729e-03, 4.44360224e-04, 1.11324932e-03,\n",
              "        3.81846878e-04, 2.81961951e-03, 4.07346756e-04, 1.22666571e-03,\n",
              "        5.82844392e-04, 5.33809658e-04, 2.55985256e-03, 6.35944525e-04,\n",
              "        1.06964577e-03, 8.89286694e-04, 4.85664724e-04, 5.73700686e-03,\n",
              "        1.25696225e-04, 7.43533972e-04, 2.88287635e-04, 1.34599258e-03,\n",
              "        1.44698266e-03, 4.36685280e-04, 9.98680096e-04, 4.67132344e-04,\n",
              "        1.18325145e-03, 4.09813211e-04, 2.44017799e-04, 2.49417317e-04,\n",
              "        7.36337175e-04, 6.95350010e-04, 1.23809716e-04, 6.45803321e-04,\n",
              "        2.83412913e-04, 7.32481205e-04, 2.55004846e-04, 1.54430924e-04,\n",
              "        4.15087523e-04, 2.91101901e-04, 1.17315764e-04, 1.20362849e-04,\n",
              "        1.54430924e-04, 2.39510994e-04, 1.54231684e-04, 2.52006206e-04,\n",
              "        2.89520269e-04, 2.86912284e-04, 1.20062428e-04, 2.86657331e-04,\n",
              "        1.18238472e-04, 2.54018926e-04, 1.56057848e-04],\n",
              "       [8.95700490e-05, 9.16228262e-05, 1.62001625e-04, 1.93716039e-04,\n",
              "        9.39921039e-05, 1.90856872e-04, 2.18110334e-04, 3.72693147e-04,\n",
              "        1.78499792e-04, 6.21699886e-04, 6.23999532e-04, 7.14453539e-04,\n",
              "        2.64162595e-03, 3.20544074e-03, 1.53299071e-03, 7.17387336e-03,\n",
              "        2.32711872e-03, 8.50011996e-03, 9.34882840e-03, 1.25816537e-02,\n",
              "        1.65985605e-02, 1.23345314e-02, 2.34262224e-02, 3.98710804e-02,\n",
              "        1.65121454e-02, 5.71725481e-02, 3.48471687e-02, 8.18266880e-02,\n",
              "        1.86226816e-02, 7.98977986e-02, 3.95535868e-02, 3.92255810e-02,\n",
              "        2.72884993e-02, 3.16887889e-02, 1.13996956e-02, 3.70532965e-02,\n",
              "        1.42318473e-02, 4.17396503e-02, 1.30014799e-02, 1.43050050e-02,\n",
              "        9.06126368e-03, 3.11172403e-02, 3.96738471e-02, 1.11135033e-02,\n",
              "        1.93175868e-02, 2.81167148e-02, 2.50699707e-02, 2.29953858e-02,\n",
              "        5.00643335e-03, 1.00747233e-02, 1.04610775e-02, 5.85886920e-03,\n",
              "        1.47786192e-02, 3.28648121e-03, 6.15173677e-03, 5.42555296e-03,\n",
              "        3.01299517e-03, 2.73859201e-03, 2.90922175e-03, 1.59657949e-03,\n",
              "        5.22931807e-03, 2.77943275e-03, 1.48315273e-03, 2.47274479e-03,\n",
              "        1.48531500e-03, 2.57714207e-03, 1.17947971e-03, 2.16115378e-03,\n",
              "        7.36253899e-04, 2.16158386e-03, 9.92343087e-04, 1.08826004e-03,\n",
              "        1.34083152e-03, 7.35877933e-04, 6.60328550e-04, 7.03081627e-04,\n",
              "        5.05719565e-04, 9.82654081e-04, 2.18821851e-04, 4.16588747e-04,\n",
              "        3.92454685e-04, 3.90280863e-04, 8.87420089e-04, 2.03562595e-04,\n",
              "        3.63230207e-04, 3.49551551e-04, 2.99979694e-04, 7.82962555e-04,\n",
              "        1.12397677e-04, 5.57729711e-04, 1.40197809e-04, 3.30307569e-04,\n",
              "        7.12146742e-04, 1.10123474e-04, 3.42311327e-04, 2.98044975e-04,\n",
              "        7.98379514e-04, 2.22451411e-04, 9.10101129e-05, 9.33872614e-05,\n",
              "        2.29021727e-04, 2.59297792e-04, 1.10579167e-04, 2.08410924e-04,\n",
              "        1.38296634e-04, 2.27387742e-04, 9.58966884e-05, 1.55713884e-04,\n",
              "        2.26072501e-04, 1.40759172e-04, 1.04446299e-04, 1.07165629e-04,\n",
              "        1.55713884e-04, 8.90543856e-05, 1.55558097e-04, 9.45428524e-05,\n",
              "        1.40427414e-04, 1.39987717e-04, 1.07059923e-04, 1.38821472e-04,\n",
              "        1.05322929e-04, 9.54495920e-05, 1.60882851e-04],\n",
              "       [9.98616143e-05, 1.03308759e-04, 1.59973118e-04, 1.74852077e-04,\n",
              "        1.07357273e-04, 1.68857171e-04, 7.14561925e-04, 1.30573921e-03,\n",
              "        5.52587292e-04, 3.57477205e-03, 4.22039169e-03, 3.42423089e-03,\n",
              "        4.98987360e-03, 5.44349505e-03, 4.36054189e-03, 2.46819936e-03,\n",
              "        5.93483139e-03, 4.10443828e-03, 5.08575628e-03, 4.88375451e-03,\n",
              "        4.58312919e-03, 4.99952082e-03, 5.82809633e-03, 5.87852281e-03,\n",
              "        3.90534559e-03, 7.77450749e-03, 7.20734678e-03, 8.14185383e-03,\n",
              "        1.03193821e-02, 9.01119217e-03, 1.26673591e-02, 1.37896828e-02,\n",
              "        1.76679518e-02, 1.35073847e-02, 1.10418541e-02, 1.99439865e-02,\n",
              "        1.10469067e-02, 3.85534583e-02, 9.79861293e-03, 2.85276904e-02,\n",
              "        1.65976559e-02, 3.89604322e-02, 3.29305568e-02, 2.56477442e-02,\n",
              "        3.43006633e-02, 3.83887723e-02, 1.90440919e-02, 6.17939616e-02,\n",
              "        2.58591903e-02, 3.29103448e-02, 3.18491707e-02, 2.65587661e-02,\n",
              "        3.53862656e-02, 1.73711649e-02, 1.16916086e-02, 2.13634584e-02,\n",
              "        9.28676912e-03, 3.15909781e-02, 4.65264670e-03, 1.12602008e-02,\n",
              "        1.08470877e-02, 1.12019578e-02, 2.80595509e-02, 5.91541932e-03,\n",
              "        4.02745199e-03, 8.58757249e-03, 2.65794904e-03, 2.16677175e-02,\n",
              "        1.42895680e-03, 4.05946070e-03, 3.63587411e-03, 3.12663415e-03,\n",
              "        1.28153619e-02, 2.25464659e-03, 7.34728127e-04, 1.65458140e-03,\n",
              "        6.23718425e-04, 6.23185748e-03, 4.71535179e-04, 1.74870053e-03,\n",
              "        8.42912399e-04, 6.86798461e-04, 6.22398400e-03, 7.29707125e-04,\n",
              "        1.42036749e-03, 1.26865392e-03, 5.76098907e-04, 1.35831967e-02,\n",
              "        1.42413517e-04, 1.01883078e-03, 3.26524970e-04, 1.69251380e-03,\n",
              "        2.56710479e-03, 4.82517083e-04, 1.18706601e-03, 5.78256669e-04,\n",
              "        2.45634139e-03, 4.88316257e-04, 2.60767447e-04, 2.71224666e-04,\n",
              "        9.16011809e-04, 8.22328353e-04, 1.38593547e-04, 7.57008933e-04,\n",
              "        3.27644614e-04, 8.82987845e-04, 2.82619258e-04, 1.70528394e-04,\n",
              "        4.86786569e-04, 3.22566952e-04, 1.26369995e-04, 1.31916729e-04,\n",
              "        1.70528394e-04, 2.52381164e-04, 1.70797175e-04, 2.76423260e-04,\n",
              "        3.24574454e-04, 3.29310426e-04, 1.31399472e-04, 3.21301392e-04,\n",
              "        1.28041394e-04, 2.80559891e-04, 1.79351271e-04],\n",
              "       [1.04841056e-04, 1.08043257e-04, 1.91213787e-04, 2.25352129e-04,\n",
              "        1.11781757e-04, 2.19405005e-04, 2.54516746e-04, 4.16631169e-04,\n",
              "        2.09268003e-04, 7.10609297e-04, 5.87636664e-04, 7.40223595e-04,\n",
              "        9.40400518e-04, 1.22382769e-03, 1.18227238e-03, 6.29336036e-03,\n",
              "        3.61297678e-02, 4.53059646e-03, 9.32736694e-03, 1.15394176e-02,\n",
              "        6.03124786e-03, 2.85915624e-03, 9.77220480e-03, 1.07194382e-02,\n",
              "        5.21468195e-02, 5.22880365e-02, 1.21000292e-02, 1.12138086e-02,\n",
              "        8.40554412e-03, 2.54913505e-02, 1.66998997e-02, 2.13489493e-02,\n",
              "        2.96826322e-02, 1.17902525e-02, 7.44345255e-02, 7.94430154e-02,\n",
              "        1.79696924e-02, 2.94450991e-02, 6.31954746e-03, 2.01756777e-02,\n",
              "        2.56430392e-02, 1.51792002e-02, 2.30473235e-02, 8.10993210e-03,\n",
              "        8.36960269e-03, 2.07606735e-02, 1.67476781e-02, 8.29552707e-02,\n",
              "        1.19273316e-02, 1.33257871e-02, 1.12532808e-02, 1.10537990e-02,\n",
              "        1.34540724e-02, 5.68255238e-03, 1.39550048e-02, 1.08823221e-02,\n",
              "        4.59890721e-03, 1.18615024e-02, 7.30561565e-03, 4.80192890e-03,\n",
              "        9.78569276e-03, 4.05550296e-03, 5.69225267e-03, 7.22992698e-03,\n",
              "        1.15587546e-02, 8.35371806e-03, 2.42019365e-03, 1.33109969e-02,\n",
              "        1.31207334e-03, 2.75224270e-03, 2.08010149e-03, 2.45110386e-03,\n",
              "        8.59607303e-03, 1.34073778e-03, 1.13597740e-03, 2.96355773e-03,\n",
              "        8.43635022e-04, 2.05137119e-03, 2.85938707e-04, 6.28833201e-04,\n",
              "        5.96450863e-04, 5.57016736e-04, 1.94673129e-03, 2.63800766e-04,\n",
              "        5.24009446e-04, 5.34406180e-04, 4.01331843e-04, 1.66871652e-03,\n",
              "        1.42920229e-04, 8.30614525e-04, 1.79665984e-04, 4.58446631e-04,\n",
              "        1.26477208e-03, 1.38468703e-04, 4.62624341e-04, 4.09524051e-04,\n",
              "        1.58764681e-03, 2.95818899e-04, 1.11523236e-04, 1.15622615e-04,\n",
              "        3.15326387e-04, 3.44679515e-04, 1.39605907e-04, 2.73561936e-04,\n",
              "        1.79403687e-04, 3.07281478e-04, 1.20072476e-04, 1.96831023e-04,\n",
              "        2.97872280e-04, 1.78034600e-04, 1.28897126e-04, 1.33604278e-04,\n",
              "        1.96831023e-04, 1.08223914e-04, 1.96972411e-04, 1.17654882e-04,\n",
              "        1.78858679e-04, 1.80827262e-04, 1.33371357e-04, 1.76783325e-04,\n",
              "        1.30387910e-04, 1.19269476e-04, 2.08569668e-04],\n",
              "       [8.72063632e-05, 8.97408521e-05, 1.55599403e-04, 1.81307629e-04,\n",
              "        9.26935408e-05, 1.76931581e-04, 2.01383909e-04, 3.26100269e-04,\n",
              "        1.69260098e-04, 5.32638485e-04, 4.56875945e-04, 5.64479793e-04,\n",
              "        1.29708892e-03, 2.47692570e-03, 1.55725417e-03, 2.27232112e-03,\n",
              "        2.20877771e-03, 7.28801857e-03, 8.86765773e-03, 1.06432277e-02,\n",
              "        5.67999778e-03, 1.06429953e-02, 1.02664192e-02, 1.63007482e-02,\n",
              "        1.44886862e-02, 2.37918260e-02, 1.52081062e-02, 3.01389602e-02,\n",
              "        1.40973329e-02, 2.93058829e-02, 3.43656993e-02, 3.52347791e-02,\n",
              "        4.96647283e-02, 2.74448388e-02, 3.31262998e-02, 5.03419297e-02,\n",
              "        3.57206542e-02, 7.81762033e-02, 1.34526591e-02, 2.07950761e-02,\n",
              "        3.18701798e-02, 1.62322708e-02, 3.77162449e-02, 1.50737720e-02,\n",
              "        3.48493212e-02, 3.31662662e-02, 1.72985909e-02, 2.28784520e-02,\n",
              "        1.80386564e-02, 2.14366510e-02, 1.49171098e-02, 3.49240122e-03,\n",
              "        2.36874576e-02, 7.27728228e-03, 9.37333902e-03, 6.47821837e-03,\n",
              "        5.38908682e-03, 2.62278570e-02, 2.03320341e-03, 5.49579757e-03,\n",
              "        9.27304458e-03, 2.29684395e-03, 5.96987888e-03, 4.79591167e-03,\n",
              "        3.58930527e-03, 2.45766005e-03, 1.45592566e-03, 4.61610238e-03,\n",
              "        8.62911321e-04, 1.59715333e-03, 1.27056116e-03, 1.47252072e-03,\n",
              "        2.51301405e-03, 8.60146580e-04, 7.46881601e-04, 7.58716856e-04,\n",
              "        5.83465202e-04, 1.26129106e-03, 2.25039790e-04, 4.60482587e-04,\n",
              "        4.37536787e-04, 4.07749758e-04, 1.19802967e-03, 2.09422961e-04,\n",
              "        3.89359954e-04, 3.80530699e-04, 3.08083640e-04, 1.05703027e-03,\n",
              "        1.16994096e-04, 5.96907890e-04, 1.44069553e-04, 3.47905037e-04,\n",
              "        8.43858604e-04, 1.12594806e-04, 3.47715958e-04, 3.11788085e-04,\n",
              "        1.00023823e-03, 2.31826117e-04, 9.24754901e-05, 9.56819119e-05,\n",
              "        2.40474048e-04, 2.67683805e-04, 1.14443499e-04, 2.16560742e-04,\n",
              "        1.43497290e-04, 2.35193955e-04, 9.91448618e-05, 1.57769316e-04,\n",
              "        2.33742336e-04, 1.43172875e-04, 1.06133737e-04, 1.09812568e-04,\n",
              "        1.57769316e-04, 8.98844474e-05, 1.57821923e-04, 9.72658341e-05,\n",
              "        1.43614941e-04, 1.44750650e-04, 1.09614690e-04, 1.41970175e-04,\n",
              "        1.07295006e-04, 9.85213924e-05, 1.65735808e-04]])"
            ]
          },
          "metadata": {
            "tags": []
          },
          "execution_count": 49
        }
      ]
    },
    {
      "cell_type": "code",
      "metadata": {
        "id": "X2G7LI5_cWhk",
        "outputId": "85139552-56f1-451a-a0bb-69753270b8a2",
        "colab": {
          "base_uri": "https://localhost:8080/",
          "height": 34
        }
      },
      "source": [
        "# сравниваем факт с предсказаниями\n",
        "# (да, сравнивать предсказания с самими данными не круто, лучше было разбить на обучающую и тестовую выборку)\n",
        "\n",
        "zip( predictions[:, 1], y )"
      ],
      "execution_count": 50,
      "outputs": [
        {
          "output_type": "execute_result",
          "data": {
            "text/plain": [
              "<zip at 0x7fae7ecea4c8>"
            ]
          },
          "metadata": {
            "tags": []
          },
          "execution_count": 50
        }
      ]
    },
    {
      "cell_type": "code",
      "metadata": {
        "id": "Ykt3LtH8cWkC",
        "outputId": "790c0dd6-3d03-4828-836b-f4000b9d1624",
        "colab": {
          "base_uri": "https://localhost:8080/",
          "height": 34
        }
      },
      "source": [
        "model.predict(X)"
      ],
      "execution_count": 51,
      "outputs": [
        {
          "output_type": "execute_result",
          "data": {
            "text/plain": [
              "array([25, 27, 47, ..., 42, 36, 37])"
            ]
          },
          "metadata": {
            "tags": []
          },
          "execution_count": 51
        }
      ]
    },
    {
      "cell_type": "code",
      "metadata": {
        "id": "q-5COoNtcWnJ",
        "outputId": "7c0e6295-2538-4b6d-ebe3-7808c985cee0",
        "colab": {
          "base_uri": "https://localhost:8080/",
          "height": 34
        }
      },
      "source": [
        "model.score(X, y) #зависимость веса от выбранного спорта крайне мала"
      ],
      "execution_count": 52,
      "outputs": [
        {
          "output_type": "execute_result",
          "data": {
            "text/plain": [
              "0.09274267820961503"
            ]
          },
          "metadata": {
            "tags": []
          },
          "execution_count": 52
        }
      ]
    },
    {
      "cell_type": "code",
      "metadata": {
        "id": "YFyfFYaHcWqa"
      },
      "source": [
        ""
      ],
      "execution_count": null,
      "outputs": []
    },
    {
      "cell_type": "code",
      "metadata": {
        "id": "NFjlh8jecWx-"
      },
      "source": [
        ""
      ],
      "execution_count": null,
      "outputs": []
    },
    {
      "cell_type": "code",
      "metadata": {
        "id": "Vgx4RwKscWvS"
      },
      "source": [
        ""
      ],
      "execution_count": null,
      "outputs": []
    },
    {
      "cell_type": "code",
      "metadata": {
        "id": "NVfsBDE1cWuL"
      },
      "source": [
        ""
      ],
      "execution_count": null,
      "outputs": []
    }
  ]
}