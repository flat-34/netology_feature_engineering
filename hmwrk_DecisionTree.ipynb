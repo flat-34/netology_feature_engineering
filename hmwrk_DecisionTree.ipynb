{
  "nbformat": 4,
  "nbformat_minor": 0,
  "metadata": {
    "colab": {
      "name": "hmwrk_DecisionTree.ipynb",
      "provenance": [],
      "authorship_tag": "ABX9TyO+EhpCiyAvoDIN10StagNl"
    },
    "kernelspec": {
      "name": "python3",
      "display_name": "Python 3"
    }
  },
  "cells": [
    {
      "cell_type": "markdown",
      "metadata": {
        "id": "H-Rs8xOyp1nC"
      },
      "source": [
        "# Домашняя работа.\n",
        "### Тема: \"Деревья решений\""
      ]
    },
    {
      "cell_type": "code",
      "metadata": {
        "id": "1rVY-WP7p0O4"
      },
      "source": [
        "import pandas as pd\n",
        "import numpy as np\n",
        "from sklearn.datasets import load_boston\n",
        "from sklearn.preprocessing import StandardScaler\n",
        "from sklearn.model_selection import train_test_split\n",
        "from sklearn.model_selection import GridSearchCV\n",
        "from sklearn.linear_model import LinearRegression\n",
        "from sklearn.tree import DecisionTreeRegressor"
      ],
      "execution_count": 1,
      "outputs": []
    },
    {
      "cell_type": "code",
      "metadata": {
        "id": "jGFUNLxIqOfR"
      },
      "source": [
        "data = load_boston()"
      ],
      "execution_count": 2,
      "outputs": []
    },
    {
      "cell_type": "code",
      "metadata": {
        "id": "fG3kUM7mqOXY"
      },
      "source": [
        "X, y = data['data'], data['target']"
      ],
      "execution_count": 3,
      "outputs": []
    },
    {
      "cell_type": "code",
      "metadata": {
        "id": "5L1wyaZsqOU8"
      },
      "source": [
        "X_train, X_valid, y_train, y_valid = train_test_split(X, y, test_size=0.2, random_state=10)"
      ],
      "execution_count": 4,
      "outputs": []
    },
    {
      "cell_type": "code",
      "metadata": {
        "id": "9leSwcwsqOQo"
      },
      "source": [
        "sc = StandardScaler()\n",
        "X_train = sc.fit_transform(X_train)\n",
        "X_valid = sc.transform(X_valid)"
      ],
      "execution_count": 5,
      "outputs": []
    },
    {
      "cell_type": "markdown",
      "metadata": {
        "id": "iVPtmyJ8xHiw"
      },
      "source": [
        "### LinearRegression"
      ]
    },
    {
      "cell_type": "code",
      "metadata": {
        "id": "wp3VeWHhs_yS"
      },
      "source": [
        "params_lr = {\n",
        "    'fit_intercept' : [False, True],\n",
        "    'normalize' : [False, True]\n",
        "    }"
      ],
      "execution_count": 6,
      "outputs": []
    },
    {
      "cell_type": "code",
      "metadata": {
        "id": "6ZmDorrMs_v1",
        "outputId": "315bff2f-d18b-4adb-c180-3dc3e421bb41",
        "colab": {
          "base_uri": "https://localhost:8080/"
        }
      },
      "source": [
        "grid_lr = GridSearchCV(LinearRegression(n_jobs=-1), param_grid=params_lr, cv=5, scoring='neg_mean_absolute_error')\n",
        "grid_lr.fit(X_train, y_train)"
      ],
      "execution_count": 7,
      "outputs": [
        {
          "output_type": "execute_result",
          "data": {
            "text/plain": [
              "GridSearchCV(cv=5, error_score=nan,\n",
              "             estimator=LinearRegression(copy_X=True, fit_intercept=True,\n",
              "                                        n_jobs=-1, normalize=False),\n",
              "             iid='deprecated', n_jobs=None,\n",
              "             param_grid={'fit_intercept': [False, True],\n",
              "                         'normalize': [False, True]},\n",
              "             pre_dispatch='2*n_jobs', refit=True, return_train_score=False,\n",
              "             scoring='neg_mean_absolute_error', verbose=0)"
            ]
          },
          "metadata": {
            "tags": []
          },
          "execution_count": 7
        }
      ]
    },
    {
      "cell_type": "code",
      "metadata": {
        "id": "n_GyFXENs_qZ",
        "outputId": "aa3f7430-578d-4391-944b-410d0c6a4e76",
        "colab": {
          "base_uri": "https://localhost:8080/"
        }
      },
      "source": [
        "print(f'Лучшие параметры: {grid_lr.best_params_}')\n",
        "print(f'Лучший результат: {grid_lr.best_score_}')"
      ],
      "execution_count": 8,
      "outputs": [
        {
          "output_type": "stream",
          "text": [
            "Лучшие параметры: {'fit_intercept': True, 'normalize': False}\n",
            "Лучший результат: -3.228030667863712\n"
          ],
          "name": "stdout"
        }
      ]
    },
    {
      "cell_type": "markdown",
      "metadata": {
        "id": "4_9cnfQuxCL4"
      },
      "source": [
        "### DecisionTree"
      ]
    },
    {
      "cell_type": "code",
      "metadata": {
        "id": "cmzZIuQls_i7"
      },
      "source": [
        "params_dt = {\n",
        "    'criterion' : ['mse', 'friedman_mse', 'mae'], \n",
        "    'splitter' : ['best', 'random'],\n",
        "    'max_features' : ['auto', 'sqrt', 'log2'],\n",
        "    'max_depth' : list(range(1,20))\n",
        "}"
      ],
      "execution_count": 9,
      "outputs": []
    },
    {
      "cell_type": "code",
      "metadata": {
        "id": "FwvmtWTrs_dr",
        "outputId": "001de118-e1c5-4109-8b96-cd1617690dee",
        "colab": {
          "base_uri": "https://localhost:8080/"
        }
      },
      "source": [
        "grid_dt = GridSearchCV(DecisionTreeRegressor(), param_grid=params_dt, cv=5, scoring='neg_mean_absolute_error')\n",
        "grid_dt.fit(X_train, y_train)"
      ],
      "execution_count": 10,
      "outputs": [
        {
          "output_type": "execute_result",
          "data": {
            "text/plain": [
              "GridSearchCV(cv=5, error_score=nan,\n",
              "             estimator=DecisionTreeRegressor(ccp_alpha=0.0, criterion='mse',\n",
              "                                             max_depth=None, max_features=None,\n",
              "                                             max_leaf_nodes=None,\n",
              "                                             min_impurity_decrease=0.0,\n",
              "                                             min_impurity_split=None,\n",
              "                                             min_samples_leaf=1,\n",
              "                                             min_samples_split=2,\n",
              "                                             min_weight_fraction_leaf=0.0,\n",
              "                                             presort='deprecated',\n",
              "                                             random_state=None,\n",
              "                                             splitter='best'),\n",
              "             iid='deprecated', n_jobs=None,\n",
              "             param_grid={'criterion': ['mse', 'friedman_mse', 'mae'],\n",
              "                         'max_depth': [1, 2, 3, 4, 5, 6, 7, 8, 9, 10, 11, 12,\n",
              "                                       13, 14, 15, 16, 17, 18, 19],\n",
              "                         'max_features': ['auto', 'sqrt', 'log2'],\n",
              "                         'splitter': ['best', 'random']},\n",
              "             pre_dispatch='2*n_jobs', refit=True, return_train_score=False,\n",
              "             scoring='neg_mean_absolute_error', verbose=0)"
            ]
          },
          "metadata": {
            "tags": []
          },
          "execution_count": 10
        }
      ]
    },
    {
      "cell_type": "code",
      "metadata": {
        "id": "5Yv8NenyvZai",
        "outputId": "9f824aec-9809-4192-d6dd-1303e61345e8",
        "colab": {
          "base_uri": "https://localhost:8080/"
        }
      },
      "source": [
        "print(f'Лучшие параметры: {grid_dt.best_params_}')\n",
        "print(f'Лучший результат: {grid_dt.best_score_}')"
      ],
      "execution_count": 11,
      "outputs": [
        {
          "output_type": "stream",
          "text": [
            "Лучшие параметры: {'criterion': 'mae', 'max_depth': 6, 'max_features': 'auto', 'splitter': 'best'}\n",
            "Лучший результат: -2.673185185185185\n"
          ],
          "name": "stdout"
        }
      ]
    },
    {
      "cell_type": "markdown",
      "metadata": {
        "id": "LyCe4m6lw3Eu"
      },
      "source": [
        "## Итоговое качество"
      ]
    },
    {
      "cell_type": "code",
      "metadata": {
        "id": "trQ_CX1wvZDx",
        "outputId": "151ac252-b7dd-4a1a-d636-a29cabb5b775",
        "colab": {
          "base_uri": "https://localhost:8080/"
        }
      },
      "source": [
        "print(f'Итог LinearRegression: {grid_lr.score(X_valid, y_valid)}')\n",
        "print(f'Итог DecisionTree: {grid_dt.score(X_valid, y_valid)}')"
      ],
      "execution_count": 12,
      "outputs": [
        {
          "output_type": "stream",
          "text": [
            "Итог LinearRegression: -4.0614191829547055\n",
            "Итог DecisionTree: -3.422058823529411\n"
          ],
          "name": "stdout"
        }
      ]
    },
    {
      "cell_type": "markdown",
      "metadata": {
        "id": "hfqD3kca0e5k"
      },
      "source": [
        "Деревья показали себя лучше, что видно из итогового качества."
      ]
    }
  ]
}