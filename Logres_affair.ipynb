{
  "nbformat": 4,
  "nbformat_minor": 0,
  "metadata": {
    "kernelspec": {
      "display_name": "Python 3",
      "language": "python",
      "name": "python3"
    },
    "language_info": {
      "codemirror_mode": {
        "name": "ipython",
        "version": 3
      },
      "file_extension": ".py",
      "mimetype": "text/x-python",
      "name": "python",
      "nbconvert_exporter": "python",
      "pygments_lexer": "ipython3",
      "version": "3.7.6"
    },
    "colab": {
      "name": "Logres_affair.ipynb",
      "provenance": []
    }
  },
  "cells": [
    {
      "cell_type": "markdown",
      "metadata": {
        "id": "CB4qtN3P211J"
      },
      "source": [
        "# Метрики precision и recall"
      ]
    },
    {
      "cell_type": "markdown",
      "metadata": {
        "id": "siHb6rpe211K"
      },
      "source": [
        "Данные содержат признаки пользователей и целевую переменную affair - была ли связь на стороне"
      ]
    },
    {
      "cell_type": "code",
      "metadata": {
        "id": "Wf7pqY7S211M"
      },
      "source": [
        "import pandas as pd"
      ],
      "execution_count": 100,
      "outputs": []
    },
    {
      "cell_type": "code",
      "metadata": {
        "id": "sRrN7kUB211S",
        "outputId": "3860b93b-88b4-4da2-ebbb-57bdae82651f",
        "colab": {
          "base_uri": "https://localhost:8080/",
          "height": 224
        }
      },
      "source": [
        "data = pd.read_csv('affair_data.csv')\n",
        "data.head()"
      ],
      "execution_count": 101,
      "outputs": [
        {
          "output_type": "execute_result",
          "data": {
            "text/html": [
              "<div>\n",
              "<style scoped>\n",
              "    .dataframe tbody tr th:only-of-type {\n",
              "        vertical-align: middle;\n",
              "    }\n",
              "\n",
              "    .dataframe tbody tr th {\n",
              "        vertical-align: top;\n",
              "    }\n",
              "\n",
              "    .dataframe thead th {\n",
              "        text-align: right;\n",
              "    }\n",
              "</style>\n",
              "<table border=\"1\" class=\"dataframe\">\n",
              "  <thead>\n",
              "    <tr style=\"text-align: right;\">\n",
              "      <th></th>\n",
              "      <th>rate_marriage</th>\n",
              "      <th>age</th>\n",
              "      <th>yrs_married</th>\n",
              "      <th>children</th>\n",
              "      <th>religious</th>\n",
              "      <th>educ</th>\n",
              "      <th>occupation</th>\n",
              "      <th>occupation_husb</th>\n",
              "      <th>affair</th>\n",
              "    </tr>\n",
              "  </thead>\n",
              "  <tbody>\n",
              "    <tr>\n",
              "      <th>0</th>\n",
              "      <td>3.0</td>\n",
              "      <td>32.0</td>\n",
              "      <td>9.0</td>\n",
              "      <td>3.0</td>\n",
              "      <td>3.0</td>\n",
              "      <td>17.0</td>\n",
              "      <td>2.0</td>\n",
              "      <td>5.0</td>\n",
              "      <td>1</td>\n",
              "    </tr>\n",
              "    <tr>\n",
              "      <th>1</th>\n",
              "      <td>3.0</td>\n",
              "      <td>27.0</td>\n",
              "      <td>13.0</td>\n",
              "      <td>3.0</td>\n",
              "      <td>1.0</td>\n",
              "      <td>14.0</td>\n",
              "      <td>3.0</td>\n",
              "      <td>4.0</td>\n",
              "      <td>1</td>\n",
              "    </tr>\n",
              "    <tr>\n",
              "      <th>2</th>\n",
              "      <td>4.0</td>\n",
              "      <td>22.0</td>\n",
              "      <td>2.5</td>\n",
              "      <td>0.0</td>\n",
              "      <td>1.0</td>\n",
              "      <td>16.0</td>\n",
              "      <td>3.0</td>\n",
              "      <td>5.0</td>\n",
              "      <td>1</td>\n",
              "    </tr>\n",
              "    <tr>\n",
              "      <th>3</th>\n",
              "      <td>4.0</td>\n",
              "      <td>37.0</td>\n",
              "      <td>16.5</td>\n",
              "      <td>4.0</td>\n",
              "      <td>3.0</td>\n",
              "      <td>16.0</td>\n",
              "      <td>5.0</td>\n",
              "      <td>5.0</td>\n",
              "      <td>1</td>\n",
              "    </tr>\n",
              "    <tr>\n",
              "      <th>4</th>\n",
              "      <td>5.0</td>\n",
              "      <td>27.0</td>\n",
              "      <td>9.0</td>\n",
              "      <td>1.0</td>\n",
              "      <td>1.0</td>\n",
              "      <td>14.0</td>\n",
              "      <td>3.0</td>\n",
              "      <td>4.0</td>\n",
              "      <td>1</td>\n",
              "    </tr>\n",
              "  </tbody>\n",
              "</table>\n",
              "</div>"
            ],
            "text/plain": [
              "   rate_marriage   age  yrs_married  ...  occupation  occupation_husb  affair\n",
              "0            3.0  32.0          9.0  ...         2.0              5.0       1\n",
              "1            3.0  27.0         13.0  ...         3.0              4.0       1\n",
              "2            4.0  22.0          2.5  ...         3.0              5.0       1\n",
              "3            4.0  37.0         16.5  ...         5.0              5.0       1\n",
              "4            5.0  27.0          9.0  ...         3.0              4.0       1\n",
              "\n",
              "[5 rows x 9 columns]"
            ]
          },
          "metadata": {
            "tags": []
          },
          "execution_count": 101
        }
      ]
    },
    {
      "cell_type": "code",
      "metadata": {
        "id": "AnyD4pMu211W",
        "outputId": "ff67f08b-421c-40d3-d823-0f484977648e",
        "colab": {
          "base_uri": "https://localhost:8080/"
        }
      },
      "source": [
        "data.info()"
      ],
      "execution_count": 102,
      "outputs": [
        {
          "output_type": "stream",
          "text": [
            "<class 'pandas.core.frame.DataFrame'>\n",
            "RangeIndex: 6366 entries, 0 to 6365\n",
            "Data columns (total 9 columns):\n",
            " #   Column           Non-Null Count  Dtype  \n",
            "---  ------           --------------  -----  \n",
            " 0   rate_marriage    6366 non-null   float64\n",
            " 1   age              6366 non-null   float64\n",
            " 2   yrs_married      6366 non-null   float64\n",
            " 3   children         6366 non-null   float64\n",
            " 4   religious        6366 non-null   float64\n",
            " 5   educ             6366 non-null   float64\n",
            " 6   occupation       6366 non-null   float64\n",
            " 7   occupation_husb  6366 non-null   float64\n",
            " 8   affair           6366 non-null   int64  \n",
            "dtypes: float64(8), int64(1)\n",
            "memory usage: 447.7 KB\n"
          ],
          "name": "stdout"
        }
      ]
    },
    {
      "cell_type": "code",
      "metadata": {
        "id": "9XJk9mDv211b"
      },
      "source": [
        "from sklearn.linear_model import LogisticRegression\n",
        "\n",
        "# импортируем метод для автоматической разбивки на обучающую и тестовую выборки\n",
        "# раньше использовали from sklearn.cross_validation import train_test_split  \n",
        "from sklearn.model_selection import train_test_split"
      ],
      "execution_count": 103,
      "outputs": []
    },
    {
      "cell_type": "markdown",
      "metadata": {
        "id": "ZntLoW0T211e"
      },
      "source": [
        "Формируем набор признаков и целевую переменную"
      ]
    },
    {
      "cell_type": "code",
      "metadata": {
        "id": "tQfc_Owv211f"
      },
      "source": [
        ""
      ],
      "execution_count": 103,
      "outputs": []
    },
    {
      "cell_type": "code",
      "metadata": {
        "id": "XTxf76oe211j",
        "outputId": "61d407e2-b896-43e2-b056-1e511d811b1a",
        "colab": {
          "base_uri": "https://localhost:8080/",
          "height": 131
        }
      },
      "source": [
        "X = data[data.columns[:-1]]\n",
        "X.head(2)"
      ],
      "execution_count": 104,
      "outputs": [
        {
          "output_type": "execute_result",
          "data": {
            "text/html": [
              "<div>\n",
              "<style scoped>\n",
              "    .dataframe tbody tr th:only-of-type {\n",
              "        vertical-align: middle;\n",
              "    }\n",
              "\n",
              "    .dataframe tbody tr th {\n",
              "        vertical-align: top;\n",
              "    }\n",
              "\n",
              "    .dataframe thead th {\n",
              "        text-align: right;\n",
              "    }\n",
              "</style>\n",
              "<table border=\"1\" class=\"dataframe\">\n",
              "  <thead>\n",
              "    <tr style=\"text-align: right;\">\n",
              "      <th></th>\n",
              "      <th>rate_marriage</th>\n",
              "      <th>age</th>\n",
              "      <th>yrs_married</th>\n",
              "      <th>children</th>\n",
              "      <th>religious</th>\n",
              "      <th>educ</th>\n",
              "      <th>occupation</th>\n",
              "      <th>occupation_husb</th>\n",
              "    </tr>\n",
              "  </thead>\n",
              "  <tbody>\n",
              "    <tr>\n",
              "      <th>0</th>\n",
              "      <td>3.0</td>\n",
              "      <td>32.0</td>\n",
              "      <td>9.0</td>\n",
              "      <td>3.0</td>\n",
              "      <td>3.0</td>\n",
              "      <td>17.0</td>\n",
              "      <td>2.0</td>\n",
              "      <td>5.0</td>\n",
              "    </tr>\n",
              "    <tr>\n",
              "      <th>1</th>\n",
              "      <td>3.0</td>\n",
              "      <td>27.0</td>\n",
              "      <td>13.0</td>\n",
              "      <td>3.0</td>\n",
              "      <td>1.0</td>\n",
              "      <td>14.0</td>\n",
              "      <td>3.0</td>\n",
              "      <td>4.0</td>\n",
              "    </tr>\n",
              "  </tbody>\n",
              "</table>\n",
              "</div>"
            ],
            "text/plain": [
              "   rate_marriage   age  yrs_married  ...  educ  occupation  occupation_husb\n",
              "0            3.0  32.0          9.0  ...  17.0         2.0              5.0\n",
              "1            3.0  27.0         13.0  ...  14.0         3.0              4.0\n",
              "\n",
              "[2 rows x 8 columns]"
            ]
          },
          "metadata": {
            "tags": []
          },
          "execution_count": 104
        }
      ]
    },
    {
      "cell_type": "code",
      "metadata": {
        "id": "-nJlpLRY211n"
      },
      "source": [
        "Y = data['affair']"
      ],
      "execution_count": 105,
      "outputs": []
    },
    {
      "cell_type": "code",
      "metadata": {
        "id": "UlYcrYXm211q"
      },
      "source": [
        "model = LogisticRegression()"
      ],
      "execution_count": 106,
      "outputs": []
    },
    {
      "cell_type": "markdown",
      "metadata": {
        "id": "gDJJH8xc211t"
      },
      "source": [
        "Разбиваем данные на обучающую и тестовую выборки в соотношении 70 / 30"
      ]
    },
    {
      "cell_type": "code",
      "metadata": {
        "id": "ahFF6Kcv211u"
      },
      "source": [
        "X_train, X_test, Y_train, Y_test = train_test_split(X, Y, test_size = 0.3, random_state = 0)"
      ],
      "execution_count": 107,
      "outputs": []
    },
    {
      "cell_type": "markdown",
      "metadata": {
        "id": "f_UnJYCu211x"
      },
      "source": [
        "Обучаем модель"
      ]
    },
    {
      "cell_type": "code",
      "metadata": {
        "id": "SzZ6_Yob211x",
        "outputId": "0246f9ea-53a1-44ec-ae2a-052c3b74e021",
        "colab": {
          "base_uri": "https://localhost:8080/"
        }
      },
      "source": [
        "model.fit(X_train, Y_train)"
      ],
      "execution_count": 108,
      "outputs": [
        {
          "output_type": "execute_result",
          "data": {
            "text/plain": [
              "LogisticRegression(C=1.0, class_weight=None, dual=False, fit_intercept=True,\n",
              "                   intercept_scaling=1, l1_ratio=None, max_iter=100,\n",
              "                   multi_class='auto', n_jobs=None, penalty='l2',\n",
              "                   random_state=None, solver='lbfgs', tol=0.0001, verbose=0,\n",
              "                   warm_start=False)"
            ]
          },
          "metadata": {
            "tags": []
          },
          "execution_count": 108
        }
      ]
    },
    {
      "cell_type": "markdown",
      "metadata": {
        "id": "_GPHs3ZQ2110"
      },
      "source": [
        "Получаем прогнозные значения модели (переменная predictions)"
      ]
    },
    {
      "cell_type": "code",
      "metadata": {
        "id": "E3nkbB2b2110"
      },
      "source": [
        "predictions = model.predict_proba(X_test)"
      ],
      "execution_count": 109,
      "outputs": []
    },
    {
      "cell_type": "code",
      "metadata": {
        "id": "HbYlTwhd2113"
      },
      "source": [
        "# for line in zip( predictions[:, 1], Y_test ):\n",
        "#     print( line )"
      ],
      "execution_count": 110,
      "outputs": []
    },
    {
      "cell_type": "code",
      "metadata": {
        "id": "xIi3XsKe2116",
        "outputId": "087a55a7-58e1-44a3-ddcb-fb942c115cc9",
        "colab": {
          "base_uri": "https://localhost:8080/"
        }
      },
      "source": [
        "model.score(X_test, Y_test)"
      ],
      "execution_count": 111,
      "outputs": [
        {
          "output_type": "execute_result",
          "data": {
            "text/plain": [
              "0.7319371727748691"
            ]
          },
          "metadata": {
            "tags": []
          },
          "execution_count": 111
        }
      ]
    },
    {
      "cell_type": "markdown",
      "metadata": {
        "id": "DqbP_XyS2118"
      },
      "source": [
        "Построим набор моделей для значений random_state от 0 до 9. Получите model.score для каждого варианта."
      ]
    },
    {
      "cell_type": "code",
      "metadata": {
        "id": "s9avGVKK2118",
        "outputId": "f2d65a86-ee9e-46ff-8dc0-1156667dc3e8",
        "colab": {
          "base_uri": "https://localhost:8080/"
        }
      },
      "source": [
        "for i in range(10):\n",
        "    X_train, X_test, Y_train, Y_test = train_test_split(X, Y, test_size = 0.3, random_state = i)\n",
        "    model = LogisticRegression()\n",
        "    model.fit(X_train, Y_train)\n",
        "    print(\"{}: {}\".format(i, model.score(X_test, Y_test)))"
      ],
      "execution_count": 112,
      "outputs": [
        {
          "output_type": "stream",
          "text": [
            "0: 0.7319371727748691\n",
            "1: 0.731413612565445\n",
            "2: 0.7172774869109948\n",
            "3: 0.7198952879581152\n",
            "4: 0.7136125654450262\n",
            "5: 0.7272251308900524\n",
            "6: 0.7136125654450262\n",
            "7: 0.7361256544502618\n",
            "8: 0.7162303664921466\n",
            "9: 0.7204188481675393\n"
          ],
          "name": "stdout"
        }
      ]
    },
    {
      "cell_type": "markdown",
      "metadata": {
        "id": "-GwqVH0u211_"
      },
      "source": [
        "### Оценка качества модели"
      ]
    },
    {
      "cell_type": "markdown",
      "metadata": {
        "id": "nujBKH2r211_"
      },
      "source": [
        "Считаем accuracy последней модели"
      ]
    },
    {
      "cell_type": "code",
      "metadata": {
        "id": "S17iqc4a211_"
      },
      "source": [
        "tp = 0 # True positive\n",
        "fp = 0 # False positive\n",
        "fn = 0 # False negative\n",
        "tn = 0 # True negative\n",
        "\n",
        "predictions = model.predict_proba( X_test )\n",
        "for predicted_prob, actual in zip( predictions[:, 1], Y_test ):    \n",
        "    if predicted_prob >= 0.5:\n",
        "        predicted = 1\n",
        "    else:\n",
        "        predicted = 0\n",
        "    \n",
        "    if predicted == 1:\n",
        "        if actual == 1:\n",
        "            tp += 1\n",
        "        else:\n",
        "            fp += 1\n",
        "    \n",
        "    else:\n",
        "        if actual == 1:\n",
        "            fn += 1\n",
        "        else:\n",
        "            tn += 1"
      ],
      "execution_count": 113,
      "outputs": []
    },
    {
      "cell_type": "code",
      "metadata": {
        "id": "md0IcPOQ212B",
        "outputId": "81d0f24f-99d0-44e7-b8d4-0a43cb29bd01",
        "colab": {
          "base_uri": "https://localhost:8080/"
        }
      },
      "source": [
        "# какая точность получилась?\n",
        "(tp + tn) / (tp + fp + fn + tn)"
      ],
      "execution_count": 114,
      "outputs": [
        {
          "output_type": "execute_result",
          "data": {
            "text/plain": [
              "0.7204188481675393"
            ]
          },
          "metadata": {
            "tags": []
          },
          "execution_count": 114
        }
      ]
    },
    {
      "cell_type": "code",
      "metadata": {
        "id": "WyPGTVAk212C",
        "outputId": "6e7bda45-0249-4703-b532-51bb5411e6aa",
        "colab": {
          "base_uri": "https://localhost:8080/"
        }
      },
      "source": [
        "precision = tp / (tp + fp)\n",
        "precision"
      ],
      "execution_count": 115,
      "outputs": [
        {
          "output_type": "execute_result",
          "data": {
            "text/plain": [
              "0.5681233933161953"
            ]
          },
          "metadata": {
            "tags": []
          },
          "execution_count": 115
        }
      ]
    },
    {
      "cell_type": "markdown",
      "metadata": {
        "id": "tRYuTOLU212E"
      },
      "source": [
        "### Используем готовые библиотеки"
      ]
    },
    {
      "cell_type": "code",
      "metadata": {
        "id": "XMSM9AIJ212F"
      },
      "source": [
        "# метод для построения графика precision-recall\n",
        "from sklearn.metrics import precision_recall_curve"
      ],
      "execution_count": 116,
      "outputs": []
    },
    {
      "cell_type": "code",
      "metadata": {
        "id": "hBCin3py212G"
      },
      "source": [
        "pr, re, thres = precision_recall_curve( Y_test, predictions[:, 1] )"
      ],
      "execution_count": 117,
      "outputs": []
    },
    {
      "cell_type": "code",
      "metadata": {
        "id": "kjiCtePU212I",
        "outputId": "e0897c5d-a85a-4035-d282-ab7a8a49f6a3",
        "colab": {
          "base_uri": "https://localhost:8080/"
        }
      },
      "source": [
        "# посмотрим что получилось\n",
        "for line in zip( pr, re, thres ):\n",
        "    print( line )\n",
        "    break"
      ],
      "execution_count": 118,
      "outputs": [
        {
          "output_type": "stream",
          "text": [
            "(0.307813319349764, 1.0, 0.048952985117842504)\n"
          ],
          "name": "stdout"
        }
      ]
    },
    {
      "cell_type": "code",
      "metadata": {
        "id": "Qk1ioHrO212K"
      },
      "source": [
        "from sklearn.metrics import average_precision_score"
      ],
      "execution_count": 119,
      "outputs": []
    },
    {
      "cell_type": "code",
      "metadata": {
        "id": "fMSU_vfA212M",
        "outputId": "0ccffe8f-1b31-4fe2-f628-781b3d8c153a",
        "colab": {
          "base_uri": "https://localhost:8080/"
        }
      },
      "source": [
        "# площадь под кривой\n",
        "average_precision_score( Y_test, predictions[:, 1] )"
      ],
      "execution_count": 120,
      "outputs": [
        {
          "output_type": "execute_result",
          "data": {
            "text/plain": [
              "0.5370815832478577"
            ]
          },
          "metadata": {
            "tags": []
          },
          "execution_count": 120
        }
      ]
    },
    {
      "cell_type": "markdown",
      "metadata": {
        "id": "Vrtsct02212N"
      },
      "source": [
        "### ROC"
      ]
    },
    {
      "cell_type": "code",
      "metadata": {
        "id": "Q1U4tBUz212O"
      },
      "source": [
        "# посчитаем ROC-кривую (Receiver Operating Characteristic)\n",
        "from sklearn.metrics import roc_curve"
      ],
      "execution_count": 121,
      "outputs": []
    },
    {
      "cell_type": "code",
      "metadata": {
        "id": "VnRaTq7d212P"
      },
      "source": [
        "# получаем значения false и true positive rate для различных значений порога\n",
        "fpr, tpr, thres = roc_curve( Y_test, predictions[:, 1] )"
      ],
      "execution_count": 122,
      "outputs": []
    },
    {
      "cell_type": "code",
      "metadata": {
        "id": "e5AvnhKl212Q",
        "outputId": "b2bf71bc-c1f3-490d-90b3-cd1d8ae89995",
        "colab": {
          "base_uri": "https://localhost:8080/"
        }
      },
      "source": [
        "for line in zip( fpr, tpr, thres ):\n",
        "    print( line )\n",
        "    break"
      ],
      "execution_count": 123,
      "outputs": [
        {
          "output_type": "stream",
          "text": [
            "(0.0, 0.0, 1.944558914094034)\n"
          ],
          "name": "stdout"
        }
      ]
    },
    {
      "cell_type": "code",
      "metadata": {
        "id": "DIfcnLbo212S",
        "outputId": "3bf7d8c6-d70d-41c4-8a07-408299d7f09e",
        "colab": {
          "base_uri": "https://localhost:8080/",
          "height": 71
        }
      },
      "source": [
        "import matplotlib.pyplot as plt\n",
        "plt.plot( fpr, tpr )"
      ],
      "execution_count": 124,
      "outputs": [
        {
          "output_type": "execute_result",
          "data": {
            "text/plain": [
              "[<matplotlib.lines.Line2D at 0x7febfff38390>]"
            ]
          },
          "metadata": {
            "tags": []
          },
          "execution_count": 124
        },
        {
          "output_type": "display_data",
          "data": {
            "image/png": "[encoded data removed]",
            "text/plain": [
              "<Figure size 432x288 with 1 Axes>"
            ]
          },
          "metadata": {
            "tags": [],
            "needs_background": "light"
          }
        }
      ]
    },
    {
      "cell_type": "markdown",
      "metadata": {
        "id": "Wh702X6n212U"
      },
      "source": [
        "**Построим еще одну модель и сравним их между собой**"
      ]
    },
    {
      "cell_type": "code",
      "metadata": {
        "id": "5aC0IM1Y212U",
        "outputId": "34b7f4cf-72a9-4729-fa35-7accb604fe55",
        "colab": {
          "base_uri": "https://localhost:8080/",
          "height": 224
        }
      },
      "source": [
        "Xshort = X.loc[ :, ['age', 'children'] ]\n",
        "Xshort.head()"
      ],
      "execution_count": 125,
      "outputs": [
        {
          "output_type": "execute_result",
          "data": {
            "text/html": [
              "<div>\n",
              "<style scoped>\n",
              "    .dataframe tbody tr th:only-of-type {\n",
              "        vertical-align: middle;\n",
              "    }\n",
              "\n",
              "    .dataframe tbody tr th {\n",
              "        vertical-align: top;\n",
              "    }\n",
              "\n",
              "    .dataframe thead th {\n",
              "        text-align: right;\n",
              "    }\n",
              "</style>\n",
              "<table border=\"1\" class=\"dataframe\">\n",
              "  <thead>\n",
              "    <tr style=\"text-align: right;\">\n",
              "      <th></th>\n",
              "      <th>age</th>\n",
              "      <th>children</th>\n",
              "    </tr>\n",
              "  </thead>\n",
              "  <tbody>\n",
              "    <tr>\n",
              "      <th>0</th>\n",
              "      <td>32.0</td>\n",
              "      <td>3.0</td>\n",
              "    </tr>\n",
              "    <tr>\n",
              "      <th>1</th>\n",
              "      <td>27.0</td>\n",
              "      <td>3.0</td>\n",
              "    </tr>\n",
              "    <tr>\n",
              "      <th>2</th>\n",
              "      <td>22.0</td>\n",
              "      <td>0.0</td>\n",
              "    </tr>\n",
              "    <tr>\n",
              "      <th>3</th>\n",
              "      <td>37.0</td>\n",
              "      <td>4.0</td>\n",
              "    </tr>\n",
              "    <tr>\n",
              "      <th>4</th>\n",
              "      <td>27.0</td>\n",
              "      <td>1.0</td>\n",
              "    </tr>\n",
              "  </tbody>\n",
              "</table>\n",
              "</div>"
            ],
            "text/plain": [
              "    age  children\n",
              "0  32.0       3.0\n",
              "1  27.0       3.0\n",
              "2  22.0       0.0\n",
              "3  37.0       4.0\n",
              "4  27.0       1.0"
            ]
          },
          "metadata": {
            "tags": []
          },
          "execution_count": 125
        }
      ]
    },
    {
      "cell_type": "code",
      "metadata": {
        "id": "0Qs9b-6r212W"
      },
      "source": [
        "model2 = LogisticRegression()"
      ],
      "execution_count": 126,
      "outputs": []
    },
    {
      "cell_type": "code",
      "metadata": {
        "id": "rmzWzbgl212X"
      },
      "source": [
        "X_train_short, X_test_short, Y_train, Y_test = train_test_split( Xshort, Y, test_size = 0.3, random_state = 0 )"
      ],
      "execution_count": 127,
      "outputs": []
    },
    {
      "cell_type": "code",
      "metadata": {
        "id": "QL86CBy2212Y",
        "outputId": "7e48e1cb-f232-49f8-dc79-4d56c2b784b9",
        "colab": {
          "base_uri": "https://localhost:8080/"
        }
      },
      "source": [
        "model2.fit( X_train_short, Y_train )"
      ],
      "execution_count": 128,
      "outputs": [
        {
          "output_type": "execute_result",
          "data": {
            "text/plain": [
              "LogisticRegression(C=1.0, class_weight=None, dual=False, fit_intercept=True,\n",
              "                   intercept_scaling=1, l1_ratio=None, max_iter=100,\n",
              "                   multi_class='auto', n_jobs=None, penalty='l2',\n",
              "                   random_state=None, solver='lbfgs', tol=0.0001, verbose=0,\n",
              "                   warm_start=False)"
            ]
          },
          "metadata": {
            "tags": []
          },
          "execution_count": 128
        }
      ]
    },
    {
      "cell_type": "code",
      "metadata": {
        "id": "Pgb3m0Qt212a"
      },
      "source": [
        "predictions2 = model2.predict_proba( X_test_short )"
      ],
      "execution_count": 129,
      "outputs": []
    },
    {
      "cell_type": "code",
      "metadata": {
        "id": "GzRrtEEo212b"
      },
      "source": [
        "fpr2, tpr2, thres2 = roc_curve( Y_test, predictions2[:, 1] )"
      ],
      "execution_count": 130,
      "outputs": []
    },
    {
      "cell_type": "code",
      "metadata": {
        "id": "oVa8_Pi7212c",
        "outputId": "f234a4d2-02ca-4df3-919e-9b4bdf90293f",
        "colab": {
          "base_uri": "https://localhost:8080/",
          "height": 54
        }
      },
      "source": [
        "plt.plot( fpr, tpr, label = 'All columns' )\n",
        "plt.plot( fpr2, tpr2, label = 'Age & children' )\n",
        "\n",
        "plt.xlabel('False Positive Rate')\n",
        "plt.ylabel('True Positive Rate')\n",
        "\n",
        "plt.legend( loc = 0 )\n",
        "plt.show()"
      ],
      "execution_count": 131,
      "outputs": [
        {
          "output_type": "display_data",
          "data": {
            "image/png": "[encoded data removed]",
            "text/plain": [
              "<Figure size 432x288 with 1 Axes>"
            ]
          },
          "metadata": {
            "tags": [],
            "needs_background": "light"
          }
        }
      ]
    },
    {
      "cell_type": "markdown",
      "metadata": {
        "id": "sQHwQU2r212d"
      },
      "source": [
        "**Посчитаем площадь под ROC-кривой для двух моделей**"
      ]
    },
    {
      "cell_type": "code",
      "metadata": {
        "id": "oY7lcJQK212e"
      },
      "source": [
        "from sklearn.metrics import roc_curve"
      ],
      "execution_count": 132,
      "outputs": []
    },
    {
      "cell_type": "code",
      "metadata": {
        "id": "Q3V7dRt0212f"
      },
      "source": [
        "from sklearn.metrics import roc_auc_score"
      ],
      "execution_count": 133,
      "outputs": []
    },
    {
      "cell_type": "code",
      "metadata": {
        "id": "JftKEX6j212g",
        "outputId": "0da6d508-6806-426e-d1e2-1d34dd29452a",
        "colab": {
          "base_uri": "https://localhost:8080/"
        }
      },
      "source": [
        "roc_auc_score( Y_test, predictions[:, 1] )"
      ],
      "execution_count": 134,
      "outputs": [
        {
          "output_type": "execute_result",
          "data": {
            "text/plain": [
              "0.5141550167462996"
            ]
          },
          "metadata": {
            "tags": []
          },
          "execution_count": 134
        }
      ]
    },
    {
      "cell_type": "code",
      "metadata": {
        "id": "XD9YAnR4212h",
        "outputId": "6576cfaa-3474-44ab-9592-185463103682",
        "colab": {
          "base_uri": "https://localhost:8080/"
        }
      },
      "source": [
        "roc_auc_score( Y_test, predictions2[:, 1] )"
      ],
      "execution_count": 135,
      "outputs": [
        {
          "output_type": "execute_result",
          "data": {
            "text/plain": [
              "0.6311452091928271"
            ]
          },
          "metadata": {
            "tags": []
          },
          "execution_count": 135
        }
      ]
    },
    {
      "cell_type": "markdown",
      "metadata": {
        "id": "NRmfQ6X-212j"
      },
      "source": [
        "Можно посчитать с помощью более общего метода auc\n",
        "\n",
        "Про разницу между ними https://stackoverflow.com/questions/31159157/different-result-with-roc-auc-score-and-auc"
      ]
    },
    {
      "cell_type": "code",
      "metadata": {
        "id": "AWHk-TRc212j"
      },
      "source": [
        "from sklearn.metrics import auc"
      ],
      "execution_count": 136,
      "outputs": []
    },
    {
      "cell_type": "code",
      "metadata": {
        "id": "lSyKvFYh212k",
        "outputId": "cdb3fd1a-b1b0-4621-b66d-dccc127eb9bb",
        "colab": {
          "base_uri": "https://localhost:8080/"
        }
      },
      "source": [
        "auc( fpr, tpr )"
      ],
      "execution_count": 137,
      "outputs": [
        {
          "output_type": "execute_result",
          "data": {
            "text/plain": [
              "0.7225950005215032"
            ]
          },
          "metadata": {
            "tags": []
          },
          "execution_count": 137
        }
      ]
    },
    {
      "cell_type": "code",
      "metadata": {
        "id": "XNPkuolg212l",
        "outputId": "9e51f969-6ba7-4d78-ba09-2fa1d608a357",
        "colab": {
          "base_uri": "https://localhost:8080/"
        }
      },
      "source": [
        "auc( fpr2, tpr2 )"
      ],
      "execution_count": 138,
      "outputs": [
        {
          "output_type": "execute_result",
          "data": {
            "text/plain": [
              "0.6311452091928271"
            ]
          },
          "metadata": {
            "tags": []
          },
          "execution_count": 138
        }
      ]
    },
    {
      "cell_type": "markdown",
      "metadata": {
        "id": "eFKcVRYg212n"
      },
      "source": [
        "## Пример влияния L1 и L2-регуляризации"
      ]
    },
    {
      "cell_type": "code",
      "metadata": {
        "id": "GAaDUOIN212n"
      },
      "source": [
        "model1 = LogisticRegression( penalty = 'l1', C = 0.01, solver='liblinear' ).fit( X_train, Y_train )\n",
        "predictions = model1.predict_proba( X_test )"
      ],
      "execution_count": 139,
      "outputs": []
    },
    {
      "cell_type": "code",
      "metadata": {
        "id": "GtBD_Mdu212o"
      },
      "source": [
        "model2 = LogisticRegression( penalty = 'l2', C = 0.01, solver='liblinear' ).fit( X_train, Y_train )\n",
        "predictions2 = model2.predict_proba( X_test )"
      ],
      "execution_count": 140,
      "outputs": []
    },
    {
      "cell_type": "code",
      "metadata": {
        "id": "hKmDLg0A212p"
      },
      "source": [
        "model3 = LogisticRegression( penalty = 'l2', C = 1, solver='liblinear' ).fit( X_train, Y_train )\n",
        "predictions3 = model3.predict_proba( X_test )"
      ],
      "execution_count": 141,
      "outputs": []
    },
    {
      "cell_type": "code",
      "metadata": {
        "id": "HAfzj5Yh212q"
      },
      "source": [
        "fpr, tpr, thres = roc_curve( Y_test, predictions[:, 1] )\n",
        "fpr2, tpr2, thres2 = roc_curve( Y_test, predictions2[:, 1] )\n",
        "fpr3, tpr3, thres3 = roc_curve( Y_test, predictions3[:, 1] )"
      ],
      "execution_count": 142,
      "outputs": []
    },
    {
      "cell_type": "code",
      "metadata": {
        "id": "CPn8PSeA212r",
        "outputId": "d2d2e6e4-310f-45a3-8465-74a8c7671eca",
        "colab": {
          "base_uri": "https://localhost:8080/",
          "height": 54
        }
      },
      "source": [
        "plt.plot( fpr, tpr, label = 'l1' )\n",
        "plt.plot( fpr2, tpr2, label = 'l2' )\n",
        "plt.plot( fpr3, tpr3, label = 'C=1' )\n",
        "\n",
        "plt.xlabel('False Positive Rate')\n",
        "plt.ylabel('True Positive Rate')\n",
        "\n",
        "plt.legend( loc = 0 )\n",
        "plt.show()"
      ],
      "execution_count": 143,
      "outputs": [
        {
          "output_type": "display_data",
          "data": {
            "image/png": "[encoded data removed]",
            "text/plain": [
              "<Figure size 432x288 with 1 Axes>"
            ]
          },
          "metadata": {
            "tags": [],
            "needs_background": "light"
          }
        }
      ]
    },
    {
      "cell_type": "markdown",
      "metadata": {
        "id": "tLPTBq_d212s"
      },
      "source": [
        "**Построим еще одну модель, используя другие признаки**"
      ]
    },
    {
      "cell_type": "code",
      "metadata": {
        "id": "47zx72E0212s",
        "outputId": "f5781d5d-945c-47bc-c915-304d1c327664",
        "colab": {
          "base_uri": "https://localhost:8080/",
          "height": 224
        }
      },
      "source": [
        "Xshort = pd.get_dummies( data.loc[ :, ['age', 'children'] ], columns = ['age', 'children'] )\n",
        "Xshort.head()"
      ],
      "execution_count": 144,
      "outputs": [
        {
          "output_type": "execute_result",
          "data": {
            "text/html": [
              "<div>\n",
              "<style scoped>\n",
              "    .dataframe tbody tr th:only-of-type {\n",
              "        vertical-align: middle;\n",
              "    }\n",
              "\n",
              "    .dataframe tbody tr th {\n",
              "        vertical-align: top;\n",
              "    }\n",
              "\n",
              "    .dataframe thead th {\n",
              "        text-align: right;\n",
              "    }\n",
              "</style>\n",
              "<table border=\"1\" class=\"dataframe\">\n",
              "  <thead>\n",
              "    <tr style=\"text-align: right;\">\n",
              "      <th></th>\n",
              "      <th>age_17.5</th>\n",
              "      <th>age_22.0</th>\n",
              "      <th>age_27.0</th>\n",
              "      <th>age_32.0</th>\n",
              "      <th>age_37.0</th>\n",
              "      <th>age_42.0</th>\n",
              "      <th>children_0.0</th>\n",
              "      <th>children_1.0</th>\n",
              "      <th>children_2.0</th>\n",
              "      <th>children_3.0</th>\n",
              "      <th>children_4.0</th>\n",
              "      <th>children_5.5</th>\n",
              "    </tr>\n",
              "  </thead>\n",
              "  <tbody>\n",
              "    <tr>\n",
              "      <th>0</th>\n",
              "      <td>0</td>\n",
              "      <td>0</td>\n",
              "      <td>0</td>\n",
              "      <td>1</td>\n",
              "      <td>0</td>\n",
              "      <td>0</td>\n",
              "      <td>0</td>\n",
              "      <td>0</td>\n",
              "      <td>0</td>\n",
              "      <td>1</td>\n",
              "      <td>0</td>\n",
              "      <td>0</td>\n",
              "    </tr>\n",
              "    <tr>\n",
              "      <th>1</th>\n",
              "      <td>0</td>\n",
              "      <td>0</td>\n",
              "      <td>1</td>\n",
              "      <td>0</td>\n",
              "      <td>0</td>\n",
              "      <td>0</td>\n",
              "      <td>0</td>\n",
              "      <td>0</td>\n",
              "      <td>0</td>\n",
              "      <td>1</td>\n",
              "      <td>0</td>\n",
              "      <td>0</td>\n",
              "    </tr>\n",
              "    <tr>\n",
              "      <th>2</th>\n",
              "      <td>0</td>\n",
              "      <td>1</td>\n",
              "      <td>0</td>\n",
              "      <td>0</td>\n",
              "      <td>0</td>\n",
              "      <td>0</td>\n",
              "      <td>1</td>\n",
              "      <td>0</td>\n",
              "      <td>0</td>\n",
              "      <td>0</td>\n",
              "      <td>0</td>\n",
              "      <td>0</td>\n",
              "    </tr>\n",
              "    <tr>\n",
              "      <th>3</th>\n",
              "      <td>0</td>\n",
              "      <td>0</td>\n",
              "      <td>0</td>\n",
              "      <td>0</td>\n",
              "      <td>1</td>\n",
              "      <td>0</td>\n",
              "      <td>0</td>\n",
              "      <td>0</td>\n",
              "      <td>0</td>\n",
              "      <td>0</td>\n",
              "      <td>1</td>\n",
              "      <td>0</td>\n",
              "    </tr>\n",
              "    <tr>\n",
              "      <th>4</th>\n",
              "      <td>0</td>\n",
              "      <td>0</td>\n",
              "      <td>1</td>\n",
              "      <td>0</td>\n",
              "      <td>0</td>\n",
              "      <td>0</td>\n",
              "      <td>0</td>\n",
              "      <td>1</td>\n",
              "      <td>0</td>\n",
              "      <td>0</td>\n",
              "      <td>0</td>\n",
              "      <td>0</td>\n",
              "    </tr>\n",
              "  </tbody>\n",
              "</table>\n",
              "</div>"
            ],
            "text/plain": [
              "   age_17.5  age_22.0  age_27.0  ...  children_3.0  children_4.0  children_5.5\n",
              "0         0         0         0  ...             1             0             0\n",
              "1         0         0         1  ...             1             0             0\n",
              "2         0         1         0  ...             0             0             0\n",
              "3         0         0         0  ...             0             1             0\n",
              "4         0         0         1  ...             0             0             0\n",
              "\n",
              "[5 rows x 12 columns]"
            ]
          },
          "metadata": {
            "tags": []
          },
          "execution_count": 144
        }
      ]
    },
    {
      "cell_type": "code",
      "metadata": {
        "id": "WHWI7tWY212u"
      },
      "source": [
        "Y = data['affair']"
      ],
      "execution_count": 145,
      "outputs": []
    },
    {
      "cell_type": "code",
      "metadata": {
        "id": "51B5t7uj212v"
      },
      "source": [
        "X_train, X_test, Y_train, Y_test = train_test_split( Xshort, Y, test_size = 0.3, random_state = 0 )"
      ],
      "execution_count": 146,
      "outputs": []
    },
    {
      "cell_type": "code",
      "metadata": {
        "id": "mSk1ho51212w"
      },
      "source": [
        "model1 = LogisticRegression( penalty = 'l1', C = 0.01, solver='liblinear' ).fit( X_train, Y_train )\n",
        "model2 = LogisticRegression( penalty = 'l2', C = 0.01, solver='liblinear' ).fit( X_train, Y_train )\n",
        "model3 = LogisticRegression( penalty = 'l2', C = 1, solver='liblinear' ).fit( X_train, Y_train )"
      ],
      "execution_count": 147,
      "outputs": []
    },
    {
      "cell_type": "code",
      "metadata": {
        "id": "NHZxKLge212x"
      },
      "source": [
        "predictions = model1.predict_proba( X_test )\n",
        "predictions2 = model2.predict_proba( X_test )\n",
        "predictions3 = model3.predict_proba( X_test )"
      ],
      "execution_count": 148,
      "outputs": []
    },
    {
      "cell_type": "code",
      "metadata": {
        "id": "1TlVaGdD212y"
      },
      "source": [
        "fpr, tpr, thres = roc_curve( Y_test, predictions[:, 1] )\n",
        "fpr2, tpr2, thres2 = roc_curve( Y_test, predictions2[:, 1] )\n",
        "fpr3, tpr3, thres3 = roc_curve( Y_test, predictions3[:, 1] )"
      ],
      "execution_count": 149,
      "outputs": []
    },
    {
      "cell_type": "code",
      "metadata": {
        "id": "aLhNG5Bl212z",
        "outputId": "bee9afb8-354d-4f07-aab2-b8d807d0a058",
        "colab": {
          "base_uri": "https://localhost:8080/",
          "height": 54
        }
      },
      "source": [
        "plt.plot( fpr, tpr, label = 'l1' )\n",
        "plt.plot( fpr2, tpr2, label = 'l2' )\n",
        "plt.plot( fpr3, tpr3, label = 'C=1' )\n",
        "\n",
        "plt.xlabel('False Positive Rate')\n",
        "plt.ylabel('True Positive Rate')\n",
        "\n",
        "plt.legend( loc = 0 )\n",
        "plt.show()"
      ],
      "execution_count": 150,
      "outputs": [
        {
          "output_type": "display_data",
          "data": {
            "image/png": "[encoded data removed]",
            "text/plain": [
              "<Figure size 432x288 with 1 Axes>"
            ]
          },
          "metadata": {
            "tags": [],
            "needs_background": "light"
          }
        }
      ]
    },
    {
      "cell_type": "code",
      "metadata": {
        "id": "0306iMKq2120"
      },
      "source": [
        ""
      ],
      "execution_count": 150,
      "outputs": []
    },
    {
      "cell_type": "markdown",
      "metadata": {
        "id": "QVccC48aYVk2"
      },
      "source": [
        "# Домашняя работа"
      ]
    },
    {
      "cell_type": "markdown",
      "metadata": {
        "id": "Y0Tj1Db5Z0HX"
      },
      "source": [
        "Посчитать tpr и fpr в ноутбуке с лекции.  \n",
        "Убедиться, что график ROC AUC получается таким же, как и штатными средствами.  \n",
        "Потроить график Precision - Recall на этих же данных"
      ]
    },
    {
      "cell_type": "code",
      "metadata": {
        "id": "dqEtegyxdV8p"
      },
      "source": [
        "import numpy as np\n",
        "import seaborn as sns"
      ],
      "execution_count": 207,
      "outputs": []
    },
    {
      "cell_type": "code",
      "metadata": {
        "id": "FtzGFI8dZdRt",
        "outputId": "c4b2ded2-ef72-4ead-994f-d2aa26569b01",
        "colab": {
          "base_uri": "https://localhost:8080/"
        }
      },
      "source": [
        "print(f'True negative: {tn} \\nFalse negative: {fn} \\nTrue positive: {tp} \\nFalse positive: {fp}')"
      ],
      "execution_count": 208,
      "outputs": [
        {
          "output_type": "stream",
          "text": [
            "True negative: 1155 \n",
            "False negative: 366 \n",
            "True positive: 221 \n",
            "False positive: 168\n"
          ],
          "name": "stdout"
        }
      ]
    },
    {
      "cell_type": "code",
      "metadata": {
        "id": "bJvY8fKBcmb8",
        "outputId": "537b2e67-97b4-4deb-87ce-094a02398e93",
        "colab": {
          "base_uri": "https://localhost:8080/"
        }
      },
      "source": [
        "accuracy = (tp + tn) / (tp + fp + fn + tn)\n",
        "print(f'Точность: {accuracy}')"
      ],
      "execution_count": 209,
      "outputs": [
        {
          "output_type": "stream",
          "text": [
            "Точность: 0.7204188481675393\n"
          ],
          "name": "stdout"
        }
      ]
    },
    {
      "cell_type": "markdown",
      "metadata": {
        "id": "3Xdp6UVHrl-p"
      },
      "source": [
        "Построение ROC"
      ]
    },
    {
      "cell_type": "code",
      "metadata": {
        "id": "erMeN0wXdGCo",
        "outputId": "94980790-d488-45d0-b673-5f3e582d75e5",
        "colab": {
          "base_uri": "https://localhost:8080/",
          "height": 295
        }
      },
      "source": [
        "fpr, tpr, thres = roc_curve(Y_test, predictions[:, 1])\n",
        "roc = pd.DataFrame(np.array([fpr, tpr, thres]).T, columns = ['fpr', 'tpr', 'thres'])\n",
        "sns.lineplot(data=roc, x = 'fpr', y = 'tpr', color='green')\n",
        "plt.title('ROC')\n",
        "plt.xlabel('False Positive Rate')\n",
        "plt.ylabel('True Positive Rate')\n",
        "plt.grid()"
      ],
      "execution_count": 210,
      "outputs": [
        {
          "output_type": "display_data",
          "data": {
            "image/png": "[encoded data removed]",
            "text/plain": [
              "<Figure size 432x288 with 1 Axes>"
            ]
          },
          "metadata": {
            "tags": [],
            "needs_background": "light"
          }
        }
      ]
    },
    {
      "cell_type": "markdown",
      "metadata": {
        "id": "H0Z04Op-tCTx"
      },
      "source": [
        "Функции"
      ]
    },
    {
      "cell_type": "code",
      "metadata": {
        "id": "MCG0_9sjfdYy",
        "outputId": "e83dcdca-5863-4924-e1ec-3f393756fec4",
        "colab": {
          "base_uri": "https://localhost:8080/"
        }
      },
      "source": [
        "def tn_fn_tp_fp(y_true, y_pred):\n",
        "  tn = ((y_true == 0) * (y_pred == 0)).sum()\n",
        "  tp = ((y_true == 1) * (y_pred == 1)).sum()\n",
        "  fn = ((y_true == 1) * (y_pred == 0)).sum()\n",
        "  fp = ((y_true == 0) * (y_pred == 1)).sum()\n",
        "  tpr = tp / (tp + fn)\n",
        "  fpr = fp / (fp + tn)\n",
        "  precision = tp / (tp + fp)\n",
        "  recall = tp / (tp + fn)\n",
        "  return tpr, fpr, precision, recall\n",
        "\n",
        "def roc(y_true, predictions, num_steps = 5000, eta = 1e-8):\n",
        "\n",
        "  roc_table = pd.DataFrame(columns = ['threshold', 'tpr', 'fpr'])\n",
        "  for step, threshold in enumerate(np.linspace(0 + eta, 1 - eta, num_steps)):\n",
        "      y_pred = predictions > threshold\n",
        "      roc_table.loc[step, 'threshold'] = threshold\n",
        "      roc_table.loc[step, 'tpr'], roc_table.loc[step, 'fpr'], _, _  =  tn_fn_tp_fp(y_true, y_pred)\n",
        "  return roc_table.sort_values('threshold', ascending = True).astype(float)\n",
        "\n",
        "def precision_recall(y_true, predictions, num_steps = 5000, eta=1e-8):\n",
        "\n",
        "  roc_table = pd.DataFrame(columns=['threshold', 'precision', 'recall'])\n",
        "  for step, threshold in enumerate(np.linspace(0 + eta, 1 - eta, num_steps)):\n",
        "      y_pred = predictions > threshold\n",
        "      roc_table.loc[step, 'threshold'] = threshold\n",
        "      _, _, roc_table.loc[step, 'precision'], roc_table.loc[step, 'recall'] =  tn_fn_tp_fp(y_true, y_pred)\n",
        "  return roc_table.sort_values('threshold', ascending = False).astype(float)\n",
        "\n",
        "precision_recall_tab = precision_recall(y_true, predictions[:,1])  \n",
        "\n",
        "roc_tab = roc(y_true, predictions[:,1])"
      ],
      "execution_count": 213,
      "outputs": [
        {
          "output_type": "stream",
          "text": [
            "/usr/local/lib/python3.6/dist-packages/ipykernel_launcher.py:8: RuntimeWarning: invalid value encountered in long_scalars\n",
            "  \n"
          ],
          "name": "stderr"
        }
      ]
    },
    {
      "cell_type": "code",
      "metadata": {
        "id": "OEXD_CGkgl5O",
        "outputId": "e2725228-f113-415f-b880-f5661b80e2eb",
        "colab": {
          "base_uri": "https://localhost:8080/",
          "height": 295
        }
      },
      "source": [
        "sns.lineplot(data=roc_tab, x='fpr', y='tpr')\n",
        "plt.title('Самостоятельно построение')\n",
        "plt.xlabel('False Positive Rate')\n",
        "plt.ylabel('True Positive Rate')\n",
        "plt.grid()"
      ],
      "execution_count": 214,
      "outputs": [
        {
          "output_type": "display_data",
          "data": {
            "image/png": "[encoded data removed]",
            "text/plain": [
              "<Figure size 432x288 with 1 Axes>"
            ]
          },
          "metadata": {
            "tags": [],
            "needs_background": "light"
          }
        }
      ]
    },
    {
      "cell_type": "markdown",
      "metadata": {
        "id": "1Vcbgfr2uUQK"
      },
      "source": [
        "Precision - Recall"
      ]
    },
    {
      "cell_type": "code",
      "metadata": {
        "id": "MKto8EcegmLd"
      },
      "source": [
        "pr, re, thres = precision_recall_curve( Y_test, predictions[:, 1] )"
      ],
      "execution_count": 215,
      "outputs": []
    },
    {
      "cell_type": "code",
      "metadata": {
        "id": "l7lNYP_NgmdD",
        "outputId": "84380761-4da7-4ad2-85e5-f2d346b8e8b8",
        "colab": {
          "base_uri": "https://localhost:8080/",
          "height": 265
        }
      },
      "source": [
        "plt.plot(re, pr, color='green')\n",
        "plt.grid()"
      ],
      "execution_count": 216,
      "outputs": [
        {
          "output_type": "display_data",
          "data": {
            "image/png": "[encoded data removed]",
            "text/plain": [
              "<Figure size 432x288 with 1 Axes>"
            ]
          },
          "metadata": {
            "tags": [],
            "needs_background": "light"
          }
        }
      ]
    },
    {
      "cell_type": "code",
      "metadata": {
        "id": "lbUoExYLgmW_",
        "outputId": "4488a07c-9b8f-48e5-fb8a-f73f76fcb0d4",
        "colab": {
          "base_uri": "https://localhost:8080/",
          "height": 295
        }
      },
      "source": [
        "sns.lineplot(data=precision_recall_tab, x='recall', y='precision')\n",
        "plt.title('Самостоятельно построение')\n",
        "plt.xlabel('False Positive Rate')\n",
        "plt.ylabel('True Positive Rate')\n",
        "plt.grid()"
      ],
      "execution_count": 217,
      "outputs": [
        {
          "output_type": "display_data",
          "data": {
            "image/png": "[encoded data removed]",
            "text/plain": [
              "<Figure size 432x288 with 1 Axes>"
            ]
          },
          "metadata": {
            "tags": [],
            "needs_background": "light"
          }
        }
      ]
    }
  ]
}