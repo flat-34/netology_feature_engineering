{
  "nbformat": 4,
  "nbformat_minor": 0,
  "metadata": {
    "colab": {
      "name": "problem of data quality_hmwrk.ipynb",
      "provenance": [],
      "authorship_tag": "ABX9TyNqWTHb20Tt/rQO0cDOUpNA"
    },
    "kernelspec": {
      "name": "python3",
      "display_name": "Python 3"
    }
  },
  "cells": [
    {
      "cell_type": "markdown",
      "metadata": {
        "id": "Xh-bzdun41oT"
      },
      "source": [
        "# Домашняя работа"
      ]
    },
    {
      "cell_type": "code",
      "metadata": {
        "id": "uwgSsimCe40a"
      },
      "source": [
        "import numpy as np\n",
        "import pandas as pd\n",
        "import seaborn as sns\n",
        "\n",
        "from sklearn.linear_model import LinearRegression\n",
        "from sklearn.metrics import mean_absolute_error"
      ],
      "execution_count": 1,
      "outputs": []
    },
    {
      "cell_type": "markdown",
      "metadata": {
        "id": "u-M3PGpN5nUy"
      },
      "source": [
        "Создаем произвольный датасет по продаже обуви."
      ]
    },
    {
      "cell_type": "code",
      "metadata": {
        "id": "2j4Gqw4ae7G7",
        "outputId": "3bd02fd6-29f2-4314-e08b-b462ff78b9fb",
        "colab": {
          "base_uri": "https://localhost:8080/",
          "height": 204
        }
      },
      "source": [
        "n_samples = 10000\n",
        "\n",
        "#заполняем произвольными начениями 1 и 2, где подразумеваем, что 1 - мужчины; 2 - женщины\n",
        "#можно было заполнить male, female, но их бы для удобства модели все равно пришлось бы переводить в 1 и 2.\n",
        "gender = np.random.choice(2, n_samples)\n",
        "\n",
        "#заполняем произвольными размера приобретенной обуви \n",
        "feet_size = np.random.randint(35, 45, n_samples)\n",
        "\n",
        "#заполняем произвольной частью дня для просчета. 1 - утро; 2 - день; 3 - вечер.\n",
        "part_of_day = np.random.randint(1, 4, n_samples)\n",
        "\n",
        "#заполняем произвольной стоимостью и для удобства делаем ее кратной 500 рублям\n",
        "price = np.random.choice(np.arange(3000, 9000, 500), n_samples)\n",
        "\n",
        "data = pd.DataFrame({'gender': gender, 'feet_size': feet_size, 'price': price, 'part_of_day': part_of_day})\n",
        "data.head()"
      ],
      "execution_count": 2,
      "outputs": [
        {
          "output_type": "execute_result",
          "data": {
            "text/html": [
              "<div>\n",
              "<style scoped>\n",
              "    .dataframe tbody tr th:only-of-type {\n",
              "        vertical-align: middle;\n",
              "    }\n",
              "\n",
              "    .dataframe tbody tr th {\n",
              "        vertical-align: top;\n",
              "    }\n",
              "\n",
              "    .dataframe thead th {\n",
              "        text-align: right;\n",
              "    }\n",
              "</style>\n",
              "<table border=\"1\" class=\"dataframe\">\n",
              "  <thead>\n",
              "    <tr style=\"text-align: right;\">\n",
              "      <th></th>\n",
              "      <th>gender</th>\n",
              "      <th>feet_size</th>\n",
              "      <th>price</th>\n",
              "      <th>part_of_day</th>\n",
              "    </tr>\n",
              "  </thead>\n",
              "  <tbody>\n",
              "    <tr>\n",
              "      <th>0</th>\n",
              "      <td>1</td>\n",
              "      <td>44</td>\n",
              "      <td>4000</td>\n",
              "      <td>2</td>\n",
              "    </tr>\n",
              "    <tr>\n",
              "      <th>1</th>\n",
              "      <td>1</td>\n",
              "      <td>43</td>\n",
              "      <td>6500</td>\n",
              "      <td>3</td>\n",
              "    </tr>\n",
              "    <tr>\n",
              "      <th>2</th>\n",
              "      <td>0</td>\n",
              "      <td>44</td>\n",
              "      <td>6000</td>\n",
              "      <td>1</td>\n",
              "    </tr>\n",
              "    <tr>\n",
              "      <th>3</th>\n",
              "      <td>1</td>\n",
              "      <td>37</td>\n",
              "      <td>3500</td>\n",
              "      <td>3</td>\n",
              "    </tr>\n",
              "    <tr>\n",
              "      <th>4</th>\n",
              "      <td>0</td>\n",
              "      <td>36</td>\n",
              "      <td>8500</td>\n",
              "      <td>1</td>\n",
              "    </tr>\n",
              "  </tbody>\n",
              "</table>\n",
              "</div>"
            ],
            "text/plain": [
              "   gender  feet_size  price  part_of_day\n",
              "0       1         44   4000            2\n",
              "1       1         43   6500            3\n",
              "2       0         44   6000            1\n",
              "3       1         37   3500            3\n",
              "4       0         36   8500            1"
            ]
          },
          "metadata": {
            "tags": []
          },
          "execution_count": 2
        }
      ]
    },
    {
      "cell_type": "markdown",
      "metadata": {
        "id": "kBqaAeKx73qN"
      },
      "source": [
        "Смотрим распределение количество покупок по размеру обуви"
      ]
    },
    {
      "cell_type": "code",
      "metadata": {
        "id": "ITVnjtKNfaCp",
        "outputId": "815354c4-f97c-4b5e-8ed6-7311a435d8fd",
        "colab": {
          "base_uri": "https://localhost:8080/"
        }
      },
      "source": [
        "data.feet_size.value_counts()"
      ],
      "execution_count": 3,
      "outputs": [
        {
          "output_type": "execute_result",
          "data": {
            "text/plain": [
              "35    1028\n",
              "40    1022\n",
              "42    1021\n",
              "37    1006\n",
              "44    1006\n",
              "38     999\n",
              "36     996\n",
              "43     978\n",
              "41     974\n",
              "39     970\n",
              "Name: feet_size, dtype: int64"
            ]
          },
          "metadata": {
            "tags": []
          },
          "execution_count": 3
        }
      ]
    },
    {
      "cell_type": "markdown",
      "metadata": {
        "id": "OuEqXwC77_sv"
      },
      "source": [
        "Смотрим распределение покупок среди мужчин и женщин"
      ]
    },
    {
      "cell_type": "code",
      "metadata": {
        "id": "DitnCcwzfdtA",
        "outputId": "d36433b8-7981-444d-8491-f7288a3382bf",
        "colab": {
          "base_uri": "https://localhost:8080/"
        }
      },
      "source": [
        "data.gender.value_counts()"
      ],
      "execution_count": 4,
      "outputs": [
        {
          "output_type": "execute_result",
          "data": {
            "text/plain": [
              "0    5031\n",
              "1    4969\n",
              "Name: gender, dtype: int64"
            ]
          },
          "metadata": {
            "tags": []
          },
          "execution_count": 4
        }
      ]
    },
    {
      "cell_type": "markdown",
      "metadata": {
        "id": "sq7tgDRz8R8h"
      },
      "source": [
        "Проверяем распределение по цене"
      ]
    },
    {
      "cell_type": "code",
      "metadata": {
        "id": "L5KcymwEqkqD",
        "outputId": "631b3939-b512-47f4-f703-54ba8c944e83",
        "colab": {
          "base_uri": "https://localhost:8080/"
        }
      },
      "source": [
        "data.price.value_counts()"
      ],
      "execution_count": 5,
      "outputs": [
        {
          "output_type": "execute_result",
          "data": {
            "text/plain": [
              "7000    905\n",
              "8500    850\n",
              "6500    844\n",
              "6000    837\n",
              "7500    836\n",
              "3500    836\n",
              "8000    836\n",
              "4500    828\n",
              "5500    816\n",
              "5000    813\n",
              "3000    803\n",
              "4000    796\n",
              "Name: price, dtype: int64"
            ]
          },
          "metadata": {
            "tags": []
          },
          "execution_count": 5
        }
      ]
    },
    {
      "cell_type": "markdown",
      "metadata": {
        "id": "i_a6OKrf8W1w"
      },
      "source": [
        "Создаем датафрейм со всеми необходимыми данными"
      ]
    },
    {
      "cell_type": "code",
      "metadata": {
        "id": "aGiNc-PU62Cz",
        "outputId": "15d3469b-2931-46a0-9fd0-cb03e6dec62b",
        "colab": {
          "base_uri": "https://localhost:8080/",
          "height": 204
        }
      },
      "source": [
        "data = pd.DataFrame({'gender': gender, 'feet_size': feet_size, 'price': price, 'part_of_day': part_of_day})\n",
        "data.head()"
      ],
      "execution_count": 6,
      "outputs": [
        {
          "output_type": "execute_result",
          "data": {
            "text/html": [
              "<div>\n",
              "<style scoped>\n",
              "    .dataframe tbody tr th:only-of-type {\n",
              "        vertical-align: middle;\n",
              "    }\n",
              "\n",
              "    .dataframe tbody tr th {\n",
              "        vertical-align: top;\n",
              "    }\n",
              "\n",
              "    .dataframe thead th {\n",
              "        text-align: right;\n",
              "    }\n",
              "</style>\n",
              "<table border=\"1\" class=\"dataframe\">\n",
              "  <thead>\n",
              "    <tr style=\"text-align: right;\">\n",
              "      <th></th>\n",
              "      <th>gender</th>\n",
              "      <th>feet_size</th>\n",
              "      <th>price</th>\n",
              "      <th>part_of_day</th>\n",
              "    </tr>\n",
              "  </thead>\n",
              "  <tbody>\n",
              "    <tr>\n",
              "      <th>0</th>\n",
              "      <td>1</td>\n",
              "      <td>44</td>\n",
              "      <td>4000</td>\n",
              "      <td>2</td>\n",
              "    </tr>\n",
              "    <tr>\n",
              "      <th>1</th>\n",
              "      <td>1</td>\n",
              "      <td>43</td>\n",
              "      <td>6500</td>\n",
              "      <td>3</td>\n",
              "    </tr>\n",
              "    <tr>\n",
              "      <th>2</th>\n",
              "      <td>0</td>\n",
              "      <td>44</td>\n",
              "      <td>6000</td>\n",
              "      <td>1</td>\n",
              "    </tr>\n",
              "    <tr>\n",
              "      <th>3</th>\n",
              "      <td>1</td>\n",
              "      <td>37</td>\n",
              "      <td>3500</td>\n",
              "      <td>3</td>\n",
              "    </tr>\n",
              "    <tr>\n",
              "      <th>4</th>\n",
              "      <td>0</td>\n",
              "      <td>36</td>\n",
              "      <td>8500</td>\n",
              "      <td>1</td>\n",
              "    </tr>\n",
              "  </tbody>\n",
              "</table>\n",
              "</div>"
            ],
            "text/plain": [
              "   gender  feet_size  price  part_of_day\n",
              "0       1         44   4000            2\n",
              "1       1         43   6500            3\n",
              "2       0         44   6000            1\n",
              "3       1         37   3500            3\n",
              "4       0         36   8500            1"
            ]
          },
          "metadata": {
            "tags": []
          },
          "execution_count": 6
        }
      ]
    },
    {
      "cell_type": "markdown",
      "metadata": {
        "id": "m9nijQst-htN"
      },
      "source": [
        "Смотрим взаимозависимость между переменными, которые у нас есть в датафрейме"
      ]
    },
    {
      "cell_type": "code",
      "metadata": {
        "id": "ZqyD3uil-PvP",
        "outputId": "87f3fdcb-25e8-41df-869a-43e49c4448e7",
        "colab": {
          "base_uri": "https://localhost:8080/",
          "height": 743
        }
      },
      "source": [
        "sns.pairplot(data)"
      ],
      "execution_count": 7,
      "outputs": [
        {
          "output_type": "execute_result",
          "data": {
            "text/plain": [
              "<seaborn.axisgrid.PairGrid at 0x7fa99987ce80>"
            ]
          },
          "metadata": {
            "tags": []
          },
          "execution_count": 7
        },
        {
          "output_type": "display_data",
          "data": {
            "image/png": "[encoded data removed]",
            "text/plain": [
              "<Figure size 720x720 with 20 Axes>"
            ]
          },
          "metadata": {
            "tags": [],
            "needs_background": "light"
          }
        }
      ]
    },
    {
      "cell_type": "markdown",
      "metadata": {
        "id": "n5yQ-cbT9FFr"
      },
      "source": [
        "Создаем обычную линейную регрессию со всеми параметрами, которые есть в датасете. При стоимости от 3000 до 8500 получаем очень большую ошибку равную почти 1500"
      ]
    },
    {
      "cell_type": "code",
      "metadata": {
        "id": "HLxHl2ztriXI",
        "outputId": "e5f55ee8-ab73-4eea-87f3-77a50ac52d14",
        "colab": {
          "base_uri": "https://localhost:8080/"
        }
      },
      "source": [
        "X = data[['gender', 'feet_size', 'part_of_day']]\n",
        "y = data['price']\n",
        "reg = LinearRegression().fit(X, y)\n",
        "print('Weights: {}'.format(reg.coef_))\n",
        "print('Bias: {}'.format(reg.intercept_))\n",
        "\n",
        "pred_values = reg.predict(data[['gender', 'feet_size', 'part_of_day']])\n",
        "print('Error: {}'.format(mean_absolute_error(pred_values, y)))"
      ],
      "execution_count": 8,
      "outputs": [
        {
          "output_type": "stream",
          "text": [
            "Weights: [36.88050085 -0.04505878 -9.59536404]\n",
            "Bias: 5785.082397530337\n",
            "Error: 1497.7429191027431\n"
          ],
          "name": "stdout"
        }
      ]
    },
    {
      "cell_type": "markdown",
      "metadata": {
        "id": "XmYP9VxT9GU-"
      },
      "source": [
        "Проверяем на медианную ошибку и видим, что она получается очень большой для наших данных"
      ]
    },
    {
      "cell_type": "code",
      "metadata": {
        "id": "WEmjlXGCrtCt",
        "outputId": "1c7613ce-1f4e-4f25-95d7-1179d2511a62",
        "colab": {
          "base_uri": "https://localhost:8080/"
        }
      },
      "source": [
        "y.median()"
      ],
      "execution_count": 9,
      "outputs": [
        {
          "output_type": "execute_result",
          "data": {
            "text/plain": [
              "6000.0"
            ]
          },
          "metadata": {
            "tags": []
          },
          "execution_count": 9
        }
      ]
    },
    {
      "cell_type": "markdown",
      "metadata": {
        "id": "__aEeOfr9Hlt"
      },
      "source": [
        "Делаем проверку с меньшим числом параметров, но получаем всё также большую ошибку, которая также равна практически 1500"
      ]
    },
    {
      "cell_type": "code",
      "metadata": {
        "id": "cQ1z-YhZrs_4",
        "outputId": "d8a1bccf-d7cd-48c1-cfd9-49622f3c536a",
        "colab": {
          "base_uri": "https://localhost:8080/"
        }
      },
      "source": [
        "X = data[['gender', 'feet_size']]\n",
        "y = data['price']\n",
        "reg = LinearRegression().fit(X, y)\n",
        "print('Weights: {}'.format(reg.coef_))\n",
        "print('Bias: {}'.format(reg.intercept_))\n",
        "\n",
        "pred_values = reg.predict(data[['gender', 'feet_size']])\n",
        "print('Error: {}'.format(mean_absolute_error(pred_values, y)))"
      ],
      "execution_count": 10,
      "outputs": [
        {
          "output_type": "stream",
          "text": [
            "Weights: [36.90784751 -0.05663824]\n",
            "Bias: 5766.296930925567\n",
            "Error: 1497.716720904021\n"
          ],
          "name": "stdout"
        }
      ]
    },
    {
      "cell_type": "markdown",
      "metadata": {
        "id": "WISJ20R18xGn"
      },
      "source": [
        "Создаем признак для мужчин - размер обуви больше или равно 40 и пол равен 1"
      ]
    },
    {
      "cell_type": "code",
      "metadata": {
        "id": "9gpcBbOUrs8e",
        "outputId": "52365b19-2cf8-43d5-a724-0cf6f6143eb2",
        "colab": {
          "base_uri": "https://localhost:8080/",
          "height": 204
        }
      },
      "source": [
        "data['men_shoes'] = ((data['feet_size'] >= 40) & (data['gender'] <= 1))\n",
        "data.head()"
      ],
      "execution_count": 11,
      "outputs": [
        {
          "output_type": "execute_result",
          "data": {
            "text/html": [
              "<div>\n",
              "<style scoped>\n",
              "    .dataframe tbody tr th:only-of-type {\n",
              "        vertical-align: middle;\n",
              "    }\n",
              "\n",
              "    .dataframe tbody tr th {\n",
              "        vertical-align: top;\n",
              "    }\n",
              "\n",
              "    .dataframe thead th {\n",
              "        text-align: right;\n",
              "    }\n",
              "</style>\n",
              "<table border=\"1\" class=\"dataframe\">\n",
              "  <thead>\n",
              "    <tr style=\"text-align: right;\">\n",
              "      <th></th>\n",
              "      <th>gender</th>\n",
              "      <th>feet_size</th>\n",
              "      <th>price</th>\n",
              "      <th>part_of_day</th>\n",
              "      <th>men_shoes</th>\n",
              "    </tr>\n",
              "  </thead>\n",
              "  <tbody>\n",
              "    <tr>\n",
              "      <th>0</th>\n",
              "      <td>1</td>\n",
              "      <td>44</td>\n",
              "      <td>4000</td>\n",
              "      <td>2</td>\n",
              "      <td>True</td>\n",
              "    </tr>\n",
              "    <tr>\n",
              "      <th>1</th>\n",
              "      <td>1</td>\n",
              "      <td>43</td>\n",
              "      <td>6500</td>\n",
              "      <td>3</td>\n",
              "      <td>True</td>\n",
              "    </tr>\n",
              "    <tr>\n",
              "      <th>2</th>\n",
              "      <td>0</td>\n",
              "      <td>44</td>\n",
              "      <td>6000</td>\n",
              "      <td>1</td>\n",
              "      <td>True</td>\n",
              "    </tr>\n",
              "    <tr>\n",
              "      <th>3</th>\n",
              "      <td>1</td>\n",
              "      <td>37</td>\n",
              "      <td>3500</td>\n",
              "      <td>3</td>\n",
              "      <td>False</td>\n",
              "    </tr>\n",
              "    <tr>\n",
              "      <th>4</th>\n",
              "      <td>0</td>\n",
              "      <td>36</td>\n",
              "      <td>8500</td>\n",
              "      <td>1</td>\n",
              "      <td>False</td>\n",
              "    </tr>\n",
              "  </tbody>\n",
              "</table>\n",
              "</div>"
            ],
            "text/plain": [
              "   gender  feet_size  price  part_of_day  men_shoes\n",
              "0       1         44   4000            2       True\n",
              "1       1         43   6500            3       True\n",
              "2       0         44   6000            1       True\n",
              "3       1         37   3500            3      False\n",
              "4       0         36   8500            1      False"
            ]
          },
          "metadata": {
            "tags": []
          },
          "execution_count": 11
        }
      ]
    },
    {
      "cell_type": "markdown",
      "metadata": {
        "id": "N4s_WMCw9MSE"
      },
      "source": [
        "Проверяем теперь уже с нашим новым признаком и получаем всё также большую ошибку, что указывает нам на то, что надо вводить другие признаки у которых будет или очень маленькая ошибка или ее не будет вообще"
      ]
    },
    {
      "cell_type": "code",
      "metadata": {
        "id": "bFp_zcPWrs23",
        "outputId": "13f160c1-44b1-4139-be28-b58bf79173e6",
        "colab": {
          "base_uri": "https://localhost:8080/"
        }
      },
      "source": [
        "X = data[['men_shoes']]\n",
        "y = data['price']\n",
        "reg = LinearRegression().fit(X, y)\n",
        "print('Weights: {}'.format(reg.coef_))\n",
        "print('Bias: {}'.format(reg.intercept_))\n",
        "\n",
        "pred_values = reg.predict(data[['men_shoes']])\n",
        "print('Error: {}'.format(mean_absolute_error(pred_values, y)))"
      ],
      "execution_count": 12,
      "outputs": [
        {
          "output_type": "stream",
          "text": [
            "Weights: [24.28704097]\n",
            "Bias: 5770.254050810162\n",
            "Error: 1497.8686393067458\n"
          ],
          "name": "stdout"
        }
      ]
    },
    {
      "cell_type": "markdown",
      "metadata": {
        "id": "zHjSj96r869q"
      },
      "source": [
        "Создаем еще один признак - цена в евро"
      ]
    },
    {
      "cell_type": "code",
      "metadata": {
        "id": "wYFMvFikrs02",
        "outputId": "0a139545-7070-4282-da5e-f234c35c9717",
        "colab": {
          "base_uri": "https://localhost:8080/",
          "height": 204
        }
      },
      "source": [
        "data['price_euro'] = data['price'] / 90\n",
        "data.head()"
      ],
      "execution_count": 13,
      "outputs": [
        {
          "output_type": "execute_result",
          "data": {
            "text/html": [
              "<div>\n",
              "<style scoped>\n",
              "    .dataframe tbody tr th:only-of-type {\n",
              "        vertical-align: middle;\n",
              "    }\n",
              "\n",
              "    .dataframe tbody tr th {\n",
              "        vertical-align: top;\n",
              "    }\n",
              "\n",
              "    .dataframe thead th {\n",
              "        text-align: right;\n",
              "    }\n",
              "</style>\n",
              "<table border=\"1\" class=\"dataframe\">\n",
              "  <thead>\n",
              "    <tr style=\"text-align: right;\">\n",
              "      <th></th>\n",
              "      <th>gender</th>\n",
              "      <th>feet_size</th>\n",
              "      <th>price</th>\n",
              "      <th>part_of_day</th>\n",
              "      <th>men_shoes</th>\n",
              "      <th>price_euro</th>\n",
              "    </tr>\n",
              "  </thead>\n",
              "  <tbody>\n",
              "    <tr>\n",
              "      <th>0</th>\n",
              "      <td>1</td>\n",
              "      <td>44</td>\n",
              "      <td>4000</td>\n",
              "      <td>2</td>\n",
              "      <td>True</td>\n",
              "      <td>44.444444</td>\n",
              "    </tr>\n",
              "    <tr>\n",
              "      <th>1</th>\n",
              "      <td>1</td>\n",
              "      <td>43</td>\n",
              "      <td>6500</td>\n",
              "      <td>3</td>\n",
              "      <td>True</td>\n",
              "      <td>72.222222</td>\n",
              "    </tr>\n",
              "    <tr>\n",
              "      <th>2</th>\n",
              "      <td>0</td>\n",
              "      <td>44</td>\n",
              "      <td>6000</td>\n",
              "      <td>1</td>\n",
              "      <td>True</td>\n",
              "      <td>66.666667</td>\n",
              "    </tr>\n",
              "    <tr>\n",
              "      <th>3</th>\n",
              "      <td>1</td>\n",
              "      <td>37</td>\n",
              "      <td>3500</td>\n",
              "      <td>3</td>\n",
              "      <td>False</td>\n",
              "      <td>38.888889</td>\n",
              "    </tr>\n",
              "    <tr>\n",
              "      <th>4</th>\n",
              "      <td>0</td>\n",
              "      <td>36</td>\n",
              "      <td>8500</td>\n",
              "      <td>1</td>\n",
              "      <td>False</td>\n",
              "      <td>94.444444</td>\n",
              "    </tr>\n",
              "  </tbody>\n",
              "</table>\n",
              "</div>"
            ],
            "text/plain": [
              "   gender  feet_size  price  part_of_day  men_shoes  price_euro\n",
              "0       1         44   4000            2       True   44.444444\n",
              "1       1         43   6500            3       True   72.222222\n",
              "2       0         44   6000            1       True   66.666667\n",
              "3       1         37   3500            3      False   38.888889\n",
              "4       0         36   8500            1      False   94.444444"
            ]
          },
          "metadata": {
            "tags": []
          },
          "execution_count": 13
        }
      ]
    },
    {
      "cell_type": "markdown",
      "metadata": {
        "id": "MCoQwtaV9Bme"
      },
      "source": [
        "Проверяем еще один новый признак на отклонение и ошибки. Получаем очень маленькую ошибку и очень хороший вес 90."
      ]
    },
    {
      "cell_type": "code",
      "metadata": {
        "id": "iL59YI1hrsvu",
        "outputId": "b43f97fe-4f9b-482a-b4c9-8a1abb9fffe9",
        "colab": {
          "base_uri": "https://localhost:8080/"
        }
      },
      "source": [
        "X = data[['price_euro']]\n",
        "y = data['price']\n",
        "reg = LinearRegression().fit(X, y)\n",
        "print(f'Weights: {format(reg.coef_)}')\n",
        "print(f'Bias: {format(reg.intercept_)}')\n",
        "\n",
        "pred_values = reg.predict(data[['price_euro']])\n",
        "print(f'Error: {format(mean_absolute_error(pred_values, y))}')"
      ],
      "execution_count": 14,
      "outputs": [
        {
          "output_type": "stream",
          "text": [
            "Weights: [90.]\n",
            "Bias: 6.366462912410498e-12\n",
            "Error: 1.819307726691477e-12\n"
          ],
          "name": "stdout"
        }
      ]
    },
    {
      "cell_type": "markdown",
      "metadata": {
        "id": "hZgMSbzkBJ-w"
      },
      "source": [
        "Далее строим графики pairplot, чтобы посмотреть зависимость и да, теперь price и price_euro в линейной зависимости, что в принципе легко было предположить :)"
      ]
    },
    {
      "cell_type": "code",
      "metadata": {
        "id": "in9C7aiFA5lw",
        "outputId": "79edcead-caa8-43eb-8450-96deb6bf5841",
        "colab": {
          "base_uri": "https://localhost:8080/",
          "height": 1000
        }
      },
      "source": [
        "sns.pairplot(data)"
      ],
      "execution_count": 15,
      "outputs": [
        {
          "output_type": "stream",
          "text": [
            "<string>:6: RuntimeWarning: Converting input from bool to <class 'numpy.uint8'> for compatibility.\n",
            "<string>:6: RuntimeWarning: Converting input from bool to <class 'numpy.uint8'> for compatibility.\n"
          ],
          "name": "stderr"
        },
        {
          "output_type": "execute_result",
          "data": {
            "text/plain": [
              "<seaborn.axisgrid.PairGrid at 0x7fa9956f7710>"
            ]
          },
          "metadata": {
            "tags": []
          },
          "execution_count": 15
        },
        {
          "output_type": "display_data",
          "data": {
            "image/png": "[encoded data removed]",
            "text/plain": [
              "<Figure size 1080x1080 with 42 Axes>"
            ]
          },
          "metadata": {
            "tags": [],
            "needs_background": "light"
          }
        }
      ]
    }
  ]
}